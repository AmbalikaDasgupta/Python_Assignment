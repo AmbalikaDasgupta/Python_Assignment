{
 "cells": [
  {
   "cell_type": "markdown",
   "id": "6befe9fc",
   "metadata": {},
   "source": [
    "1.What are the two values of the Boolean data type? How do you write them?"
   ]
  },
  {
   "cell_type": "markdown",
   "id": "1c4c97cc",
   "metadata": {},
   "source": [
    "Ans:\n",
    "The two values of the Boolean data types are True and False.\n",
    "In python we write Boolean data as True and False."
   ]
  },
  {
   "cell_type": "markdown",
   "id": "d958cb01",
   "metadata": {},
   "source": [
    "2. What are the three different types of Boolean operators?\n"
   ]
  },
  {
   "cell_type": "markdown",
   "id": "04cfb6ea",
   "metadata": {},
   "source": [
    "Ans: In Python, the three different types of Boolean operators are:\n",
    "\n",
    " 1) AND Operator:The AND operator is represented by the keyword \"and\" in Python. It returns True only if both operands are true. \n",
    "\n",
    "For example:\n",
    "A and B \n",
    "Both conditions for A and B must be satisfied for the expression to evaluate to True.\n",
    "\n",
    " 2) OR Operator: The OR operator is represented by the keyword \"or\" in Python. It returns True if at least one of the operands is true. \n",
    " \n",
    "For example:\n",
    "A or B \n",
    "If either the condition for A or the condition for B (or both) is satisfied, the expression will evaluate to True.\n",
    "\n",
    " 3) NOT Operator: The NOT operator is represented by the keyword \"not\" in Python. It reverses the logical state of its operand. If the operand is true, the NOT operator returns False, and if the operand is false, it returns True. \n",
    " \n",
    "For example:\n",
    "Not A\n",
    "If the condition for A is not satisfied, the expression will evaluate to True, or vice versa.\n",
    "\n",
    "These Boolean operators are commonly used in Python's conditional statements, logical expressions, and control flow structures to evaluate conditions and make decisions based on them."
   ]
  },
  {
   "cell_type": "markdown",
   "id": "0502e93f",
   "metadata": {},
   "source": [
    "3. Make a list of each Boolean operator&#39;s truth tables (i.e. every possible combination of Boolean\n",
    "values for the operator and what it evaluate )."
   ]
  },
  {
   "cell_type": "code",
   "execution_count": 1,
   "id": "1d1f3be4",
   "metadata": {},
   "outputs": [
    {
     "ename": "SyntaxError",
     "evalue": "unmatched ')' (626045850.py, line 3)",
     "output_type": "error",
     "traceback": [
      "\u001b[1;36m  Cell \u001b[1;32mIn[1], line 3\u001b[1;36m\u001b[0m\n\u001b[1;33m    1) AND Operator (&&):\u001b[0m\n\u001b[1;37m     ^\u001b[0m\n\u001b[1;31mSyntaxError\u001b[0m\u001b[1;31m:\u001b[0m unmatched ')'\n"
     ]
    }
   ],
   "source": [
    "#Ans: Truth tables for each Boolean operator:\n",
    "\n",
    "1) AND Operator (&&):\n",
    "    \n",
    "    A   |   B   | A && B |\n",
    "|-------|-------|--------|\n",
    "| False | False | False  |\n",
    "| False | True  | False  |\n",
    "| True  | False | False  |\n",
    "| True  | True  | True   \n",
    "\n",
    "2) OR Operator (||):\n",
    "\n",
    "|   A   |   B   | A || B |\n",
    "|-------|-------|--------|\n",
    "| False | False | False  |\n",
    "| False | True  | True   |\n",
    "| True  | False | True   |\n",
    "| True  | True  | True   |\n",
    "\n",
    "3) NOT Operator (!):\n",
    "\n",
    "|   A   |  !A   |\n",
    "|-------|-------|\n",
    "| False | True  |\n",
    "| True  | False |\n",
    "\n",
    "4) XOR Operator (^):\n",
    "\n",
    "|   A   |   B   | A ^ B |\n",
    "|-------|-------|-------|\n",
    "| False | False | False |\n",
    "| False | True  | True  |\n",
    "| True  | False | True  |\n",
    "| True  | True  | False |"
   ]
  },
  {
   "cell_type": "markdown",
   "id": "d5c2afc1",
   "metadata": {},
   "source": [
    "4. What are the values of the following expressions?"
   ]
  },
  {
   "cell_type": "markdown",
   "id": "7c7fbdf0",
   "metadata": {},
   "source": [
    "1) (5 > 4) and (3 == 5)\n",
    "(5 > 4) is True\n",
    "(3 == 5) is False\n",
    "True and False is False\n",
    "\n",
    "2) not (5 > 4)\n",
    "(5 > 4) is True\n",
    "not True is False\n",
    "\n",
    "3) (5 > 4) or (3 == 5)\n",
    "\n",
    "(5 > 4) is True\n",
    "(3 == 5) is False\n",
    "True or False is True\n",
    "\n",
    "4) not ((5 > 4) or (3 == 5))\n",
    "(5 > 4) is True\n",
    "(3 == 5) is False\n",
    "True or False is True\n",
    "not True is False\n",
    "\n",
    "5) (True and True) and (True == False)\n",
    "True and True is True\n",
    "True == False is False\n",
    "True and False is False\n",
    "\n",
    "6) (not False) or (not True)\n",
    "not False is True\n",
    "not True is False\n",
    "True or False is True"
   ]
  },
  {
   "cell_type": "markdown",
   "id": "222f3812",
   "metadata": {},
   "source": [
    "5. What are the six comparison operators?"
   ]
  },
  {
   "cell_type": "markdown",
   "id": "e0a6c88d",
   "metadata": {},
   "source": [
    "The six comparison operators are:\n",
    "\n",
    "1) Equal to (==): Checks if two values are equal.\n",
    "2) Not equal to (!=): Checks if two values are not equal.\n",
    "3) Greater than (>): Checks if the left operand is greater than the right operand.\n",
    "4) Less than (<): Checks if the left operand is less than the right operand.\n",
    "5) Greater than or equal to (>=): Checks if the left operand is greater than or equal to the right operand.\n",
    "6) Less than or equal to (<=): Checks if the left operand is less than or equal to the right operand.\n",
    "\n",
    "These comparison operators are used to compare values and return a Boolean result (True or False) based on the specified condition."
   ]
  },
  {
   "cell_type": "markdown",
   "id": "72e35499",
   "metadata": {},
   "source": [
    "6. How do you tell the difference between the equal to and assignment operators?Describe a\n",
    "condition and when you would use one."
   ]
  },
  {
   "cell_type": "code",
   "execution_count": 5,
   "id": "bb30a2f9",
   "metadata": {},
   "outputs": [
    {
     "name": "stdout",
     "output_type": "stream",
     "text": [
      "x is equal to y\n",
      "2\n"
     ]
    }
   ],
   "source": [
    "# Ans: Equal to operator (==) and Assignment operator (=) \n",
    "     \n",
    "\"\"\"1) Equal to operator (==): The equal to operator is used for comparison to check if two values are equal or not. \n",
    "It compares the values on the left and right sides of the operator and returns True if they are equal, and False if they are not. \n",
    "The equal to operator is commonly used in conditional statements or expressions to evaluate conditions.\n",
    "\"\"\"\n",
    "x = 5\n",
    "y = 5\n",
    "\n",
    "if x == y:\n",
    "    print(\"x is equal to y\")\n",
    "else:\n",
    "    print(\"x is not equal to y\")\n",
    " \n",
    "\"\"\"2) Assignment operator (=): The assignment operator is used to assign a value to a variable.\n",
    "It takes the value on the right and assigns it to the variable on the left. \n",
    "It does not perform a comparison but rather assigns a value.\n",
    "\"\"\"\n",
    "a=2\n",
    "b=a+1\n",
    "print(a)\n"
   ]
  },
  {
   "cell_type": "markdown",
   "id": "b8e8c428",
   "metadata": {},
   "source": [
    "7. Identify the three blocks in this code:"
   ]
  },
  {
   "cell_type": "code",
   "execution_count": 7,
   "id": "4bed8f6f",
   "metadata": {},
   "outputs": [
    {
     "name": "stdout",
     "output_type": "stream",
     "text": [
      "ham\n",
      "spam\n",
      "spam\n"
     ]
    }
   ],
   "source": [
    "#In the given code, there are three blocks identified by indentation. Here's the code with the blocks labeled:\n",
    "spam = 0\n",
    "\n",
    " #Block 1\n",
    "if spam == 10:\n",
    "    print('eggs')\n",
    "\n",
    "#Block 2\n",
    "if spam > 5:\n",
    "    print('bacon')\n",
    "else:\n",
    "    # Block 3\n",
    "    print('ham')\n",
    "\n",
    "print('spam')\n",
    "print('spam')\n",
    "\n",
    "# The last two print statements (print('spam'), print('spam')) are not indented and are not part of any specific block. \n",
    "#They will be executed regardless of the conditions in the previous blocks. So, they will print 'spam' twice.\n"
   ]
  },
  {
   "cell_type": "markdown",
   "id": "0f0e2bba",
   "metadata": {},
   "source": [
    "8. Write code that prints Hello if 1 is stored in spam, prints Howdy if 2 is stored in spam, and prints Greetings! if anything else is stored in spam."
   ]
  },
  {
   "cell_type": "code",
   "execution_count": 8,
   "id": "d7bf7184",
   "metadata": {},
   "outputs": [
    {
     "name": "stdout",
     "output_type": "stream",
     "text": [
      "Greetings!\n"
     ]
    }
   ],
   "source": [
    "spam=5\n",
    "if spam==1:\n",
    "    print(\"Hello\")\n",
    "elif spam==2:\n",
    "    print(\"Howdy\")\n",
    "else:\n",
    "    print(\"Greetings!\")"
   ]
  },
  {
   "cell_type": "markdown",
   "id": "bb581740",
   "metadata": {},
   "source": [
    "9.If your programme is stuck in an endless loop, what keys you’ll press?"
   ]
  },
  {
   "cell_type": "markdown",
   "id": "333f46ae",
   "metadata": {},
   "source": [
    "Ans:\n",
    "Windows: Press Ctrl + C\n",
    "\n",
    "This key combination sends an interrupt signal to the running program, causing it to terminate and exit the loop."
   ]
  },
  {
   "cell_type": "markdown",
   "id": "34497de8",
   "metadata": {},
   "source": [
    "10. How can you tell the difference between break and continue?"
   ]
  },
  {
   "cell_type": "code",
   "execution_count": 11,
   "id": "b54e7581",
   "metadata": {},
   "outputs": [
    {
     "name": "stdout",
     "output_type": "stream",
     "text": [
      "1\n",
      "2\n"
     ]
    }
   ],
   "source": [
    "\"\"\"\n",
    "Ans: break and continue are two control flow statements used in loops (e.g., for loops and while loops) to alter the flow of execution. They serve different purposes:\n",
    "\n",
    "break:\n",
    "\n",
    "When encountered inside a loop, the break statement immediately terminates the loop and continues the program execution with the statement immediately following the loop.\n",
    "It is used to exit the loop prematurely based on a specific condition, even if the loop's iteration conditions are not met.\n",
    "It is commonly used to stop the loop early when a particular condition is satisfied.\"\"\"\n",
    "\n",
    "for i in range(1, 6):\n",
    "    if i == 3:\n",
    "        break\n",
    "    print(i)\n",
    "    \n"
   ]
  },
  {
   "cell_type": "code",
   "execution_count": 12,
   "id": "35023f37",
   "metadata": {},
   "outputs": [
    {
     "name": "stdout",
     "output_type": "stream",
     "text": [
      "1\n",
      "2\n",
      "4\n",
      "5\n"
     ]
    }
   ],
   "source": [
    "\"\"\"continue:\n",
    "\n",
    "When encountered inside a loop, the continue statement immediately skips the rest of the current iteration and proceeds to the next iteration of the loop.\n",
    "It is used to skip certain iterations based on a specific condition and continue with the next iteration.\n",
    "It is commonly used to avoid executing certain parts of the loop body when a particular condition is met.\"\"\"\n",
    "\n",
    "for i in range(1,6):\n",
    "    if i==3:\n",
    "        continue\n",
    "    print(i)\n",
    "    \n",
    "\"\"\" In summary, break is used to exit the loop entirely, \n",
    "while continue is used to skip the rest of the current iteration and proceed to the next iteration. \n",
    "They both provide control over loop flow, allowing you to customize how the loop behaves based on specific conditions.\"\"\""
   ]
  },
  {
   "cell_type": "markdown",
   "id": "d9fa132e",
   "metadata": {},
   "source": [
    "11. In a for loop, what is the difference between range(10), range(0, 10), and range(0, 10, 1)?"
   ]
  },
  {
   "cell_type": "markdown",
   "id": "a809bd82",
   "metadata": {},
   "source": [
    "In a for loop, the three expressions range(10), range(0, 10), and range(0, 10, 1) all represent different ways of specifying the range of numbers to iterate over. However, in practice, they behave the same way and produce the same sequence of numbers. The range() function in Python generates a sequence of numbers starting from the given start value (inclusive) up to the given stop value (exclusive) with a specified step.\n",
    "\n",
    "Here's how they are different conceptually:\n",
    "\n",
    "1) range(10):\n",
    "\n",
    "This form of the range() function only takes one argument, which is the stop value.\n",
    "It generates a sequence of numbers starting from 0 (default start) up to, but not including, the stop value, which is 10 in this case.\n",
    "The step value is implicitly assumed to be 1 (default step).\n",
    "\n",
    "2) range(0, 10):\n",
    "\n",
    "This form of the range() function takes two arguments, the start value (0) and the stop value (10).\n",
    "It generates a sequence of numbers starting from the specified start value (0) up to, but not including, the stop value (10).\n",
    "The step value is implicitly assumed to be 1 (default step).\n",
    "\n",
    "3) range(0, 10, 1):\n",
    "\n",
    "This form of the range() function takes three arguments, the start value (0), the stop value (10), and the step value (1).\n",
    "It generates a sequence of numbers starting from the specified start value (0) up to, but not including, the stop value (10) with a step of 1."
   ]
  },
  {
   "cell_type": "code",
   "execution_count": 16,
   "id": "f64020ef",
   "metadata": {},
   "outputs": [
    {
     "name": "stdout",
     "output_type": "stream",
     "text": [
      "0\n",
      "1\n",
      "2\n",
      "3\n",
      "4\n",
      "5\n",
      "6\n",
      "7\n",
      "8\n",
      "9\n"
     ]
    }
   ],
   "source": [
    "#range(10):\n",
    "for i in range(10):\n",
    "    print(i)"
   ]
  },
  {
   "cell_type": "code",
   "execution_count": 17,
   "id": "e1497edc",
   "metadata": {},
   "outputs": [
    {
     "name": "stdout",
     "output_type": "stream",
     "text": [
      "0\n",
      "1\n",
      "2\n",
      "3\n",
      "4\n",
      "5\n",
      "6\n",
      "7\n",
      "8\n",
      "9\n"
     ]
    }
   ],
   "source": [
    "# range(0, 10)\n",
    "for i in range (0,10):\n",
    "    print(i)"
   ]
  },
  {
   "cell_type": "code",
   "execution_count": 18,
   "id": "3efe39e1",
   "metadata": {},
   "outputs": [
    {
     "name": "stdout",
     "output_type": "stream",
     "text": [
      "0\n",
      "1\n",
      "2\n",
      "3\n",
      "4\n",
      "5\n",
      "6\n",
      "7\n",
      "8\n",
      "9\n"
     ]
    }
   ],
   "source": [
    "# range(0, 10,1)\n",
    "for i in range (0,10,1):\n",
    "    print(i)"
   ]
  },
  {
   "cell_type": "markdown",
   "id": "bc781e76",
   "metadata": {},
   "source": [
    "12. Write a short program that prints the numbers 1 to 10 using a for loop. Then write an equivalent\n",
    "program that prints the numbers 1 to 10 using a while loop."
   ]
  },
  {
   "cell_type": "code",
   "execution_count": 19,
   "id": "eb82f752",
   "metadata": {},
   "outputs": [
    {
     "name": "stdout",
     "output_type": "stream",
     "text": [
      "1\n",
      "2\n",
      "3\n",
      "4\n",
      "5\n",
      "6\n",
      "7\n",
      "8\n",
      "9\n",
      "10\n"
     ]
    }
   ],
   "source": [
    "#Using for loop\n",
    "for i in range(1, 11):\n",
    "    print(i)"
   ]
  },
  {
   "cell_type": "code",
   "execution_count": 21,
   "id": "ed7b8690",
   "metadata": {},
   "outputs": [
    {
     "name": "stdout",
     "output_type": "stream",
     "text": [
      "1\n",
      "2\n",
      "3\n",
      "4\n",
      "5\n",
      "6\n",
      "7\n",
      "8\n",
      "9\n",
      "10\n"
     ]
    }
   ],
   "source": [
    " # using while loop\n",
    "num = 1\n",
    "while num <= 10:\n",
    "    print(num)\n",
    "    num += 1"
   ]
  },
  {
   "cell_type": "markdown",
   "id": "6cfd5562",
   "metadata": {},
   "source": [
    "13. If you had a function named bacon() inside a module named spam, how would you call it after\n",
    "importing spam?"
   ]
  },
  {
   "cell_type": "markdown",
   "id": "ded7f894",
   "metadata": {},
   "source": [
    "After importing the spam module using the following syntax can call bacon():\n",
    "\n",
    "import spam\n",
    "\n",
    "\n",
    "spam.bacon()"
   ]
  },
  {
   "cell_type": "code",
   "execution_count": null,
   "id": "6ce8a00e",
   "metadata": {},
   "outputs": [],
   "source": []
  },
  {
   "cell_type": "code",
   "execution_count": null,
   "id": "8ce832a9",
   "metadata": {},
   "outputs": [],
   "source": []
  },
  {
   "cell_type": "code",
   "execution_count": null,
   "id": "f038ed70",
   "metadata": {},
   "outputs": [],
   "source": []
  }
 ],
 "metadata": {
  "kernelspec": {
   "display_name": "Python 3 (ipykernel)",
   "language": "python",
   "name": "python3"
  },
  "language_info": {
   "codemirror_mode": {
    "name": "ipython",
    "version": 3
   },
   "file_extension": ".py",
   "mimetype": "text/x-python",
   "name": "python",
   "nbconvert_exporter": "python",
   "pygments_lexer": "ipython3",
   "version": "3.10.9"
  }
 },
 "nbformat": 4,
 "nbformat_minor": 5
}
