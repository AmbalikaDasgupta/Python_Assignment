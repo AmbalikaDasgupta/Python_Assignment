{
 "cells": [
  {
   "cell_type": "markdown",
   "id": "0e39541f-0af0-4942-832c-d21746f5bef3",
   "metadata": {},
   "source": [
    "Q.1. What are keywords in python? Using the keyword library, print all the python keywords."
   ]
  },
  {
   "cell_type": "markdown",
   "id": "ab1bb68f-2891-4196-bb64-3794623fd3c1",
   "metadata": {},
   "source": [
    "Keywords in Python are pre-defined and reserved words that hold special meanings in the Python programming language. These keywords cannot be used as variable names, function names, or any other identifiers within Python code. They are essential for defining the syntax and structure of the Python language.\n",
    "\n",
    "Using a keyword as a variable name or any other identifier would result in a syntax error because Python treats these words as part of its core language and assigns specific functionalities to them. Therefore, it is important to avoid using keywords as identifiers to ensure proper interpretation and execution of Python code.\n",
    "\n",
    "Here are some examples of Python keywords: and, from,as, if,None etc."
   ]
  },
  {
   "cell_type": "code",
   "execution_count": 5,
   "id": "223dada9-0c85-498b-9c34-3f2eea4bbc4e",
   "metadata": {},
   "outputs": [
    {
     "name": "stdout",
     "output_type": "stream",
     "text": [
      "['False', 'None', 'True', 'and', 'as', 'assert', 'async', 'await', 'break', 'class', 'continue', 'def', 'del', 'elif', 'else', 'except', 'finally', 'for', 'from', 'global', 'if', 'import', 'in', 'is', 'lambda', 'nonlocal', 'not', 'or', 'pass', 'raise', 'return', 'try', 'while', 'with', 'yield']\n"
     ]
    }
   ],
   "source": [
    "from keyword import kwlist\n",
    "k=kwlist\n",
    "print(k)"
   ]
  },
  {
   "cell_type": "markdown",
   "id": "3c26e92f-98bb-4760-881c-47e0dabf4417",
   "metadata": {},
   "source": [
    "Q.2. What are the rules to create variables in python?"
   ]
  },
  {
   "cell_type": "markdown",
   "id": "9574f854-ee74-43dd-be2d-671909840ab4",
   "metadata": {},
   "source": [
    "In Python, there are a few rules to keep in mind when creating variables:\n",
    "\n",
    "1. Variable names must start with a letter (a-z, A-Z) or an underscore (_). They cannot start with a number or any other special character.\n",
    "\n",
    "2.Variable names can contain letters (a-z, A-Z), numbers (0-9), and underscores (_). They are case-sensitive, meaning that variables named \"myVar\" and \"myvar\" are considered different.\n",
    "\n",
    "3.Python keywords (reserved words) cannot be used as variable names. For example, you cannot name a variable \"if\" or \"for\" since these words have special meanings in Python.\n",
    "\n",
    "4.Variable names should be descriptive and meaningful. It's a good practice to use lowercase letters and underscores to separate words in variable names to improve readability. For example, \"my_variable\" is more readable than \"myvariable\" or \"MyVariable.\"\n",
    "\n",
    "5.Avoid using built-in function names or module names as variable names to prevent conflicts and confusion. For example, you shouldn't use \"print,\" \"input,\" or \"str\" as variable names.\n"
   ]
  },
  {
   "cell_type": "code",
   "execution_count": 2,
   "id": "bae9438b-70a5-4b20-9414-25cee453994d",
   "metadata": {},
   "outputs": [
    {
     "name": "stdout",
     "output_type": "stream",
     "text": [
      "10\n",
      "10\n",
      "Ambalika\n",
      "Ambalika\n",
      "Ambalika\n"
     ]
    }
   ],
   "source": [
    "#Here are some examples of valid variable names:\n",
    "Age=10\n",
    "age=10\n",
    "name=\"Ambalika\"\n",
    "my_name=\"Ambalika\"\n",
    "_name=\"Ambalika\"\n",
    "print(Age)\n",
    "print(age)\n",
    "print(name)\n",
    "print(my_name)\n",
    "print(_name)\n"
   ]
  },
  {
   "cell_type": "code",
   "execution_count": 5,
   "id": "eecb353d-c666-4d8a-a360-b5ed04da247a",
   "metadata": {},
   "outputs": [
    {
     "ename": "SyntaxError",
     "evalue": "invalid decimal literal (720392140.py, line 1)",
     "output_type": "error",
     "traceback": [
      "\u001b[0;36m  Cell \u001b[0;32mIn [5], line 1\u001b[0;36m\u001b[0m\n\u001b[0;31m    2var = 10       # Starts with a number\u001b[0m\n\u001b[0m    ^\u001b[0m\n\u001b[0;31mSyntaxError\u001b[0m\u001b[0;31m:\u001b[0m invalid decimal literal\n"
     ]
    }
   ],
   "source": [
    "2var = 10       # Starts with a number\n",
    "if = 5          # Uses a reserved keyword\n",
    "my-variable = 7 # Contains a hyphen\n",
    "\n",
    "print(2var)\n",
    "print(if)\n",
    "print(my-variable)\n",
    "\n",
    "\n",
    "\n",
    "\n",
    "\n"
   ]
  },
  {
   "cell_type": "markdown",
   "id": "ff6caf3c-aa2a-4791-aba5-70e9e244faa0",
   "metadata": {},
   "source": [
    "Q.3. What are the standards and conventions followed for the nomenclature of variables in\n",
    "python to improve code readability and maintainability?"
   ]
  },
  {
   "cell_type": "markdown",
   "id": "3c9f9e95-d1b4-450b-8145-7c66ccdcdb22",
   "metadata": {},
   "source": [
    "In Python, there are several standards and conventions for naming variables that are widely followed to improve code readability and maintainability. Here are some of the commonly accepted practices:\n",
    "\n",
    "1. Use descriptive and meaningful names: Variable names should reflect the purpose or content of the variable. This helps in understanding the code and makes it easier to maintain. For example, instead of using single letters like \"x\" or \"i\", use more descriptive names like \"count\" or \"username\".\n",
    "\n",
    "2. Follow snake_case: In Python, the convention is to use lowercase letters and separate words with underscores. For example, \"total_amount\" or \"user_name\". This convention is used for variable names, function names, and module names.\n",
    "\n",
    "3. Avoid reserved words: Do not use reserved words or built-in names as variable names, as they have special meanings in Python. For example, \"print\", \"list\", or \"str\" should not be used as variable names.\n",
    "\n",
    "4. Use lowercase for constants: If you have constants in your code, such as values that are not meant to be changed, use all uppercase letters with underscores to separate words. For example, \"MAX_SIZE\" or \"PI\".\n",
    "\n",
    "5. Be consistent: Maintain consistency in your naming conventions throughout your codebase. If you use a certain naming style for variables, functions, or classes, stick to it. Consistency makes the code easier to read and understand.\n",
    "\n",
    "6. Avoid abbreviations and single-letter names: While brevity is important, it's better to use descriptive names instead of abbreviations or single-letter names. This helps in understanding the purpose of the variable without having to refer to comments or documentation.\n",
    "\n",
    "7. Use meaningful prefixes or suffixes when appropriate: In some cases, it can be helpful to add prefixes or suffixes to variable names to provide additional information. For example, using \"is_\" prefix for boolean variables or suffixing \"_list\" for variables that store lists.\n",
    "\n",
    "8. Use noun or noun phrases for object names: When naming variables that represent objects or instances of classes, it is common to use nouns or noun phrases. For example, \"customer\", \"car\", or \"order\".\n",
    "\n",
    "These conventions are not strict rules enforced by the Python interpreter, but rather widely adopted practices to improve code readability and maintainability."
   ]
  },
  {
   "cell_type": "markdown",
   "id": "91776351-f928-44d8-a550-0dd92162dc3f",
   "metadata": {},
   "source": [
    "Q.4. What will happen if a keyword is used as a variable name?"
   ]
  },
  {
   "cell_type": "markdown",
   "id": "9b4eeb9b-6be3-44e6-b7da-0399ee4aed0f",
   "metadata": {},
   "source": [
    "If a keyword is used as a variable name in Python, it will result in a syntax error. Keywords are reserved words in the Python language that have special meanings and purposes.\n",
    "\n",
    "\n",
    "#Example:\n",
    "\n",
    "for=10 print(for)\n",
    "\n",
    "will show #SyntaxError: invalid syntax"
   ]
  },
  {
   "cell_type": "markdown",
   "id": "e809a7f5-6fcc-4c9e-ad68-cddcc7a7c8a9",
   "metadata": {},
   "source": [
    "Q.5. For what purpose def keyword is used?"
   ]
  },
  {
   "cell_type": "markdown",
   "id": "21eeae41-dbfa-4c77-bf9a-10a21d573941",
   "metadata": {},
   "source": [
    "Python def keyword is used to define a function, it is placed before a function name that is provided by the user to create a user-defined function. In Python, a function is a logical unit of code containing a sequence of statements indented under a name given using the “def” keyword. In Python def keyword is the most used keyword.\n",
    "\n"
   ]
  },
  {
   "cell_type": "code",
   "execution_count": 3,
   "id": "b2683700-0af0-4c0c-b793-23b866b02d05",
   "metadata": {},
   "outputs": [
    {
     "name": "stdout",
     "output_type": "stream",
     "text": [
      "40\n"
     ]
    }
   ],
   "source": [
    "#def\n",
    "def MyFirstFunction(a): #def followed by function name and (parameters):\n",
    "    b=20           \n",
    "    print(a+b)   #body of statment\n",
    "#calling\n",
    "\n",
    "MyFirstFunction(20) #return expression"
   ]
  },
  {
   "cell_type": "markdown",
   "id": "1c3f481a-3697-412f-9e7f-e1855967bfe0",
   "metadata": {},
   "source": [
    "Q.6. What is the operation of this special character ‘\\’?"
   ]
  },
  {
   "cell_type": "markdown",
   "id": "4dcb4181-60fa-4c4b-8fa9-751343dee3db",
   "metadata": {},
   "source": [
    "In Python strings, the backslash \"\\ \" is a special character, also called the \"escape\" character. It is used in representing certain whitespace characters: \"\\t\" is a tab, \"\\n\" is a newline, and \"\\r\" is a carriage return. Conversely, prefixing a special character with \"\\ \" turns it into an ordinary character."
   ]
  },
  {
   "cell_type": "code",
   "execution_count": 14,
   "id": "fe0c1455-c6d1-4374-9397-be06f54d5448",
   "metadata": {},
   "outputs": [
    {
     "name": "stdout",
     "output_type": "stream",
     "text": [
      "a\tb\n",
      "a\tnb\n"
     ]
    }
   ],
   "source": [
    "#Example\n",
    "print(\"a\\tb\")\n",
    "print(\"a\\tnb\")"
   ]
  },
  {
   "cell_type": "markdown",
   "id": "78f2d2f6-a5a4-417d-bf8b-d9b0ba6c000e",
   "metadata": {},
   "source": [
    "Q.7. Give an example of the following conditions:\n",
    "(i) Homogeneous list\n",
    "(ii) Heterogeneous set\n",
    "(iii) Homogeneous tuple"
   ]
  },
  {
   "cell_type": "code",
   "execution_count": 19,
   "id": "38a6c56f-6691-4708-8502-b995f3e1ba17",
   "metadata": {},
   "outputs": [
    {
     "name": "stdout",
     "output_type": "stream",
     "text": [
      "<class 'list'>\n",
      "<class 'set'>\n",
      "<class 'tuple'>\n"
     ]
    }
   ],
   "source": [
    "Homogeneous_list=[1,2,3]\n",
    "print(type(Homogeneous_list))\n",
    "Heterogeneous_set={1,2,\"ambalika\",20.21}\n",
    "print(type(Heterogeneous_set))\n",
    "Homogeneous_tuple=(1,2,3)\n",
    "print(type(Homogeneous_tuple))"
   ]
  },
  {
   "cell_type": "markdown",
   "id": "b1630825-e425-4a87-b335-f4a814b80dcd",
   "metadata": {},
   "source": [
    "Q.8. Explain the mutable and immutable data types with proper explanation & examples."
   ]
  },
  {
   "cell_type": "markdown",
   "id": "69ab1e1f-ac45-4630-b57f-06bee6b0e4f9",
   "metadata": {},
   "source": [
    "Mutable Objects:\n",
    "\n",
    "A mutable object can be changed after it is created.\n",
    "Examples : List, Set, Dictionary\n",
    "\n",
    "Immutable Objects:\n",
    "\n",
    "An immutable object cannot be changed after it is created.\n",
    "Examples: Tuple,const"
   ]
  },
  {
   "cell_type": "markdown",
   "id": "c6526d4d-6ef2-4826-aba1-8afea1e1c38c",
   "metadata": {},
   "source": [
    "Q.9. Write a code to create the given structure using only for loop."
   ]
  },
  {
   "cell_type": "markdown",
   "id": "48a77d32-dbe1-456c-93bf-3a471b1e92bb",
   "metadata": {},
   "source": [
    "\n"
   ]
  },
  {
   "cell_type": "code",
   "execution_count": 6,
   "id": "d33de383-971a-4602-bbb3-b0616ebf53c1",
   "metadata": {},
   "outputs": [
    {
     "name": "stdout",
     "output_type": "stream",
     "text": [
      "    * \n",
      "   * * \n",
      "  * * * \n",
      " * * * * \n",
      "* * * * * \n"
     ]
    }
   ],
   "source": [
    "n=5\n",
    "for i in range(n):\n",
    "    for j in range(i,n-1):\n",
    "        print(\"\",end=' ')\n",
    "    for j in range(i+1):\n",
    "        print(\"*\",end=' ')\n",
    "    print()"
   ]
  },
  {
   "cell_type": "code",
   "execution_count": null,
   "id": "9edcb424",
   "metadata": {},
   "outputs": [],
   "source": []
  },
  {
   "cell_type": "code",
   "execution_count": null,
   "id": "e64723d4",
   "metadata": {},
   "outputs": [],
   "source": []
  },
  {
   "cell_type": "code",
   "execution_count": null,
   "id": "0ce95968",
   "metadata": {},
   "outputs": [],
   "source": []
  }
 ],
 "metadata": {
  "kernelspec": {
   "display_name": "Python 3 (ipykernel)",
   "language": "python",
   "name": "python3"
  },
  "language_info": {
   "codemirror_mode": {
    "name": "ipython",
    "version": 3
   },
   "file_extension": ".py",
   "mimetype": "text/x-python",
   "name": "python",
   "nbconvert_exporter": "python",
   "pygments_lexer": "ipython3",
   "version": "3.10.9"
  }
 },
 "nbformat": 4,
 "nbformat_minor": 5
}
