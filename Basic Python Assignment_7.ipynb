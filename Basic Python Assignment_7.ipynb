{
 "cells": [
  {
   "cell_type": "markdown",
   "id": "9f536357",
   "metadata": {},
   "source": [
    "Q.1. Create two int type variables, apply addition, subtraction, division and multiplications\n",
    "and store the results in variables. Then print the data in the following format by calling the\n",
    "variables:"
   ]
  },
  {
   "cell_type": "code",
   "execution_count": 23,
   "id": "06520764",
   "metadata": {},
   "outputs": [
    {
     "name": "stdout",
     "output_type": "stream",
     "text": [
      "First variable is 10 & second variable is 5.\n",
      "Addition: 10 + 5 = 15\n",
      "Subtraction: 10 - 5 = 5\n",
      "Multiplication: 10 * 5 = 50\n",
      "Division: 10 / 5 = 2.0\n"
     ]
    }
   ],
   "source": [
    "num1=10\n",
    "num2=5\n",
    "Addition=num1+num2\n",
    "Subtraction=num1-num2\n",
    "Multiplication=num1* num2\n",
    "Division=num1/num2\n",
    "\n",
    "print(f\"First variable is {num1} & second variable is {num2}.\")\n",
    "print(f\"Addition: {num1} + {num2} = {Addition}\")\n",
    "print(f\"Subtraction: {num1} - {num2} = {Subtraction}\")\n",
    "print(f\"Multiplication: {num1} * {num2} = {Multiplication}\")\n",
    "print(f\"Division: {num1} / {num2} = {Division}\")"
   ]
  },
  {
   "cell_type": "markdown",
   "id": "76885e1a",
   "metadata": {},
   "source": [
    "Q.2. What is the difference between the following operators:\n",
    "(i) ‘/’ & ‘//’\n",
    "(ii) ‘**’ & ‘^’"
   ]
  },
  {
   "cell_type": "code",
   "execution_count": null,
   "id": "1cfa85a9",
   "metadata": {},
   "outputs": [],
   "source": [
    "Ans: 1)'/' performs floating-point division.\n",
    "     2)'//' performs floor division (integer division).\n",
    "     3)'**' performs exponentiation.\n",
    "     4)'^' performs bitwise XOR."
   ]
  },
  {
   "cell_type": "markdown",
   "id": "7dde2d50",
   "metadata": {},
   "source": [
    "Q.3. List the logical operators."
   ]
  },
  {
   "cell_type": "markdown",
   "id": "09342d82",
   "metadata": {},
   "source": [
    "Ans: The logical operators in Python are used to perform logical operations and return Boolean values (True or False) based on the given conditions. Here are the logical operators in Python:\n",
    "\n",
    "AND Operator:The AND operator is represented by the keyword \"and\" in Python. It returns True only if both operands are true.\n",
    "For example: A and B Both conditions for A and B must be satisfied for the expression to evaluate to True.\n",
    "\n",
    "OR Operator: The OR operator is represented by the keyword \"or\" in Python. It returns True if at least one of the operands is true.\n",
    "For example: A or B If either the condition for A or the condition for B (or both) is satisfied, the expression will evaluate to True.\n",
    "\n",
    "NOT Operator: The NOT operator is represented by the keyword \"not\" in Python. It reverses the logical state of its operand. If the operand is true, the NOT operator returns False, and if the operand is false, it returns True.\n",
    "For example: Not A If the condition for A is not satisfied, the expression will evaluate to True, or vice versa."
   ]
  },
  {
   "cell_type": "markdown",
   "id": "016fecc1",
   "metadata": {},
   "source": [
    "\n",
    "Q.4. Explain right shift operator and left shift operator with examples."
   ]
  },
  {
   "cell_type": "markdown",
   "id": "2f31abf2",
   "metadata": {},
   "source": [
    "The right shift operator (>>) and left shift operator (<<) are bitwise operators in Python. They manipulate the bits of integers, shifting them to the right or left, respectively.\n",
    "\n",
    "1)Right Shift Operator (>>):\n",
    "\n",
    "The right shift operator takes two operands: the first operand is the number whose bits are to be shifted, and the second operand is the number of positions to shift the bits to the right. The rightmost bits are discarded, and the leftmost bits are filled with the sign bit (0 for non-negative numbers and 1 for negative numbers).\n",
    "\n",
    "\n",
    "2)Left Shift Operator (<<):\n",
    "The left shift operator also takes two operands: the first operand is the number whose bits are to be shifted, and the second operand is the number of positions to shift the bits to the left. The leftmost bits that are shifted out are discarded, and the rightmost bits are filled with 0.\n",
    "\n",
    "\n",
    "The left shift operator (<<) is often used for efficiently multiplying an integer by a power of 2, while the right shift operator (>>) is used for efficiently dividing an integer by a power of 2 (integer division)."
   ]
  },
  {
   "cell_type": "code",
   "execution_count": 30,
   "id": "e87d7f90",
   "metadata": {},
   "outputs": [
    {
     "name": "stdout",
     "output_type": "stream",
     "text": [
      "2\n",
      "40\n"
     ]
    }
   ],
   "source": [
    "#Right Shift \n",
    "\n",
    "num = 8  # Binary: 00001000\n",
    "result = num >> 2  # Shift two positions to the right\n",
    "print(result)  # Output: 2 (Binary: 00000010)\n",
    "\n",
    "#left Shift\n",
    "\n",
    "num = 5  # Binary: 00000101\n",
    "result = num << 3  # Shift three positions to the left\n",
    "print(result)  # Output: 40 (Binary: 00101000)"
   ]
  },
  {
   "cell_type": "markdown",
   "id": "73866ae9",
   "metadata": {},
   "source": [
    "Q.5. Create a list containing int type data of length 15. Then write a code to check if 10 is\n",
    "present in the list or not."
   ]
  },
  {
   "cell_type": "code",
   "execution_count": 33,
   "id": "93cc19d2",
   "metadata": {},
   "outputs": [
    {
     "name": "stdout",
     "output_type": "stream",
     "text": [
      "Present\n"
     ]
    }
   ],
   "source": [
    "List=[1,24,51,21,20,10,23,24,2,4,6,8,12,30,40]\n",
    "\n",
    "if 10 in List:\n",
    "    print(\"Present\")\n",
    "else:\n",
    "    print(\"Not Present\")"
   ]
  },
  {
   "cell_type": "code",
   "execution_count": null,
   "id": "262cb299",
   "metadata": {},
   "outputs": [],
   "source": []
  },
  {
   "cell_type": "code",
   "execution_count": null,
   "id": "20ce53a6",
   "metadata": {},
   "outputs": [],
   "source": []
  }
 ],
 "metadata": {
  "kernelspec": {
   "display_name": "Python 3 (ipykernel)",
   "language": "python",
   "name": "python3"
  },
  "language_info": {
   "codemirror_mode": {
    "name": "ipython",
    "version": 3
   },
   "file_extension": ".py",
   "mimetype": "text/x-python",
   "name": "python",
   "nbconvert_exporter": "python",
   "pygments_lexer": "ipython3",
   "version": "3.10.9"
  }
 },
 "nbformat": 4,
 "nbformat_minor": 5
}
