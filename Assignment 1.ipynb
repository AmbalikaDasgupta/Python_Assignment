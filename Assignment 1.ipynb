{
 "cells": [
  {
   "cell_type": "markdown",
   "id": "654a831b-bd15-4919-8fde-013621c336df",
   "metadata": {},
   "source": [
    "1. In the below elements which of them are values or an expression? eg:- values can be\n",
    "integer or string and expressions will be mathematical operators.\n"
   ]
  },
  {
   "cell_type": "code",
   "execution_count": null,
   "id": "c2ce29ad-562b-45d9-9077-76e352e909da",
   "metadata": {},
   "outputs": [],
   "source": [
    "\"\"\"\n",
    "\n",
    "*       = Expression\n",
    "\"hello\" = Value\n",
    "-87.8   =Value\n",
    "-       =Expression\n",
    "/       =Expression\n",
    "+       =Expression\n",
    "6       =Value\n",
    "\n",
    "\"\"\"\n"
   ]
  },
  {
   "cell_type": "markdown",
   "id": "12f4a840-ad31-4f65-acd4-ab920144a259",
   "metadata": {},
   "source": [
    "2. What is the difference between string and variable?"
   ]
  },
  {
   "cell_type": "markdown",
   "id": "6da26449-36b0-439a-a9b2-03544c65f3a7",
   "metadata": {},
   "source": [
    "Variables: Variables are symbols that you can use to store data or values in a program. \n",
    "\n",
    "example:\n",
    "\n",
    "number=10 \n",
    "Here number represent variable where as 10 is a value\n",
    "\n",
    "Stings:  Strings are one of the data type which we use to  fill up a variable.\n",
    "\n",
    "example:\n",
    "\n",
    "name=\"Ambalika\"\n",
    "\n",
    "Here name is a variable where we are storing string data (Ambalika). "
   ]
  },
  {
   "cell_type": "markdown",
   "id": "4649c964-5b5a-4223-860b-3970dc484398",
   "metadata": {},
   "source": [
    "3. Describe three different data types."
   ]
  },
  {
   "cell_type": "code",
   "execution_count": 4,
   "id": "56670e1f-8bc3-4e72-91ed-34a43db9bfaa",
   "metadata": {},
   "outputs": [
    {
     "name": "stdout",
     "output_type": "stream",
     "text": [
      "<class 'str'>\n",
      "<class 'int'>\n",
      "<class 'float'>\n"
     ]
    }
   ],
   "source": [
    "#Sting\n",
    "#integer \n",
    "#float\n",
    "\n",
    "name=\"ambalika\"\n",
    "age=28\n",
    "price=91.20\n",
    "print(type (name))\n",
    "print(type (age))\n",
    "print(type (price))"
   ]
  },
  {
   "cell_type": "markdown",
   "id": "c4972f6e-47e0-4388-bc0a-02e996148bda",
   "metadata": {},
   "source": [
    "4. What is an expression made up of? What do all expressions do?"
   ]
  },
  {
   "cell_type": "markdown",
   "id": "65507e4e-52ad-4265-9fe9-d7e29b71ea67",
   "metadata": {},
   "source": [
    "An expression is a combination of values, variables, operators, and function calls that can be evaluated to produce a result. It represents a computation or a calculation in a programming language or mathematical context.\n",
    "\n",
    "All expression give results"
   ]
  },
  {
   "cell_type": "markdown",
   "id": "b97e3044-f740-4ae4-9fc9-d3ca78bd6500",
   "metadata": {},
   "source": [
    "5. This assignment statements, like spam = 10. What is the difference between an\n",
    "expression and a statement?"
   ]
  },
  {
   "cell_type": "markdown",
   "id": "a5bfab51-3d23-45eb-99ec-33b25d70437c",
   "metadata": {},
   "source": [
    "Ans: spam=10 is a statment.\n",
    "\n",
    "1.expression evalute values and produce results but on the other hand statment perform action and can not print results.\n",
    "\n",
    "2. expression can be made up of several expression but stament can not made up of several satment.\n",
    "\n",
    "3.expression mostly define by the useres but most statments are predefine in the programming language\n"
   ]
  },
  {
   "cell_type": "markdown",
   "id": "51681a8c-008d-40b8-9b09-d40576245a94",
   "metadata": {},
   "source": [
    "6. After running the following code, what does the variable bacon contain?\n",
    "\n",
    "bacon = 22 \n",
    "\n",
    "bacon + 1"
   ]
  },
  {
   "cell_type": "markdown",
   "id": "0fd3f7fc-6743-4d01-9d92-92b20c67c811",
   "metadata": {},
   "source": [
    "Ans:\n",
    "    bacon variable contain 22  cause bacon+1 was not assign any variable where updated bacon value will be stored."
   ]
  },
  {
   "cell_type": "markdown",
   "id": "692dd443-5443-4260-8c0b-6f065552f4ed",
   "metadata": {},
   "source": [
    "7. What should the values of the following two terms be?\n",
    "\n",
    "'spam' + 'spamspam'\n",
    "\n",
    "'spam'*3"
   ]
  },
  {
   "cell_type": "code",
   "execution_count": 6,
   "id": "27c6777b-8ddb-4363-93df-8a1fc5459315",
   "metadata": {},
   "outputs": [
    {
     "name": "stdout",
     "output_type": "stream",
     "text": [
      "spamspamspam\n",
      "spamspamspam\n"
     ]
    }
   ],
   "source": [
    "\n",
    "S1='spam' + 'spamspam' #this term performs string concatenation, so the result would be 'spamspamspam'.\n",
    "S2='spam'*3 #This term performs string repetition, so the result would be 'spamspamspam'.\n",
    "print(S1)\n",
    "print(S2)"
   ]
  },
  {
   "cell_type": "markdown",
   "id": "d988436d-1fc2-463d-b509-9810d6845d78",
   "metadata": {},
   "source": [
    "8. Why is eggs a valid variable name while 100 is invalid?"
   ]
  },
  {
   "cell_type": "markdown",
   "id": "1c389fe1-25e3-4756-94d7-75e46bc06e75",
   "metadata": {},
   "source": [
    "Ans:\n",
    "    100 are invalid variable because it is starts with number. varibles can not start with number or special character.\n",
    "    On the other hand eggs is a string so we can use as a variable."
   ]
  },
  {
   "cell_type": "markdown",
   "id": "012d0fb0-1399-42bc-b992-f0a84df28698",
   "metadata": {},
   "source": [
    "9. What three functions can be used to get the integer, floating-point number, or string\n",
    "version of a value?"
   ]
  },
  {
   "cell_type": "code",
   "execution_count": 7,
   "id": "0cfff258-8c97-48f4-9d61-97a2b79cf561",
   "metadata": {},
   "outputs": [
    {
     "name": "stdout",
     "output_type": "stream",
     "text": [
      "<class 'int'>\n",
      "<class 'str'>\n",
      "<class 'float'>\n"
     ]
    }
   ],
   "source": [
    "#Ans: use function int(),float(),str()\n",
    "#example\n",
    "a=int(10.2)\n",
    "print(type(a))\n",
    "\n",
    "b=str(10)\n",
    "print(type(b))\n",
    "\n",
    "c=float(10)\n",
    "print(type(c))"
   ]
  },
  {
   "cell_type": "markdown",
   "id": "3b25333c-fb42-481a-9957-e6cc9abe0e7d",
   "metadata": {},
   "source": [
    "10. Why does this expression cause an error? How can you fix it?\n",
    "\"I have eaten\" + 99 +\"burritos.\""
   ]
  },
  {
   "cell_type": "code",
   "execution_count": 12,
   "id": "2320fd4f-5acf-4454-9cd4-ebde514e3b3e",
   "metadata": {},
   "outputs": [
    {
     "name": "stdout",
     "output_type": "stream",
     "text": [
      "I have eaten99burritos.\n"
     ]
    }
   ],
   "source": [
    "'''Ans:\n",
    "\"I have eaten\" + 99 +\"burritos.\" will show error cause data types are not same, so can not concatinate all the data.\n",
    "but if we will change the int data type 99 to str then we will get result.\n",
    "\n",
    "concat=\"I have eaten\" + 99 +\"burritos.\"\n",
    "print(concat)\n",
    "\n",
    "show error '''\n",
    "\n",
    "concat1=\"I have eaten\" + \"99\" +\"burritos.\"\n",
    "print(concat1)\n",
    "\n",
    "    "
   ]
  },
  {
   "cell_type": "code",
   "execution_count": null,
   "id": "e01a44c1-4ff6-483a-b88e-b114c1faac40",
   "metadata": {},
   "outputs": [],
   "source": []
  }
 ],
 "metadata": {
  "kernelspec": {
   "display_name": "Python 3 (ipykernel)",
   "language": "python",
   "name": "python3"
  },
  "language_info": {
   "codemirror_mode": {
    "name": "ipython",
    "version": 3
   },
   "file_extension": ".py",
   "mimetype": "text/x-python",
   "name": "python",
   "nbconvert_exporter": "python",
   "pygments_lexer": "ipython3",
   "version": "3.10.6"
  }
 },
 "nbformat": 4,
 "nbformat_minor": 5
}
