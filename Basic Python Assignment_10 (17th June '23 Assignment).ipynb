{
 "cells": [
  {
   "cell_type": "markdown",
   "id": "b32aa207",
   "metadata": {},
   "source": [
    "1. What is the role of try and exception block?"
   ]
  },
  {
   "cell_type": "markdown",
   "id": "66e93a5c",
   "metadata": {},
   "source": [
    "The \"try\" and \"except\" blocks are used in programming languages, like Python, to handle errors and exceptions gracefully, preventing the program from crashing when unexpected issues arise during execution. Here's how they work:\n",
    "\n",
    "Try Block: The code that might raise an exception or error is placed inside the \"try\" block. This is the portion of code that we want to monitor for potential errors.\n",
    "\n",
    "Except Block: If an exception occurs within the \"try\" block, the program jumps to the corresponding \"except\" block. The \"except\" block contains the code that will handle the exception. It allows us to define how the program should respond to specific types of errors."
   ]
  },
  {
   "cell_type": "code",
   "execution_count": 1,
   "id": "9db9741b",
   "metadata": {},
   "outputs": [
    {
     "name": "stdout",
     "output_type": "stream",
     "text": [
      "Enter 1st number: 10\n",
      "Enter 2nd number: 0\n",
      "Cannot divide by zero!\n"
     ]
    }
   ],
   "source": [
    "try:\n",
    "    a = int(input(\"Enter 1st number: \"))\n",
    "    b = int(input(\"Enter 2nd number: \"))\n",
    "    c=a/b\n",
    "    print(\"Result:\", b)\n",
    "except ZeroDivisionError:\n",
    "    print(\"Cannot divide by zero!\")"
   ]
  },
  {
   "cell_type": "markdown",
   "id": "cf97bdf0",
   "metadata": {},
   "source": [
    "2. What is the syntax for a basic try-except block?"
   ]
  },
  {
   "cell_type": "code",
   "execution_count": null,
   "id": "333113ea",
   "metadata": {},
   "outputs": [],
   "source": [
    "try:\n",
    "    # Code that might raise an exception\n",
    "    # ...\n",
    "except SomeExceptionType:\n",
    "    # Code to handle the exception\n",
    "    # ..."
   ]
  },
  {
   "cell_type": "markdown",
   "id": "b4641849",
   "metadata": {},
   "source": [
    "3. What happens if an exception occurs inside a try block and there is no matching\n",
    "except block?"
   ]
  },
  {
   "cell_type": "markdown",
   "id": "923cef29",
   "metadata": {},
   "source": [
    "If an exception occurs inside a \"try\" block and there is no matching \"except\" block to handle that specific type of exception, the program will terminate, and an unhandled exception error will be raised. This means that the program will crash, and an error message with the details of the exception will be displayed."
   ]
  },
  {
   "cell_type": "code",
   "execution_count": 3,
   "id": "d5804758",
   "metadata": {},
   "outputs": [
    {
     "ename": "ZeroDivisionError",
     "evalue": "division by zero",
     "output_type": "error",
     "traceback": [
      "\u001b[1;31m---------------------------------------------------------------------------\u001b[0m",
      "\u001b[1;31mZeroDivisionError\u001b[0m                         Traceback (most recent call last)",
      "Cell \u001b[1;32mIn[3], line 4\u001b[0m\n\u001b[0;32m      1\u001b[0m \u001b[38;5;66;03m# Here's an example in Python:\u001b[39;00m\n\u001b[0;32m      3\u001b[0m \u001b[38;5;28;01mtry\u001b[39;00m:\n\u001b[1;32m----> 4\u001b[0m     result \u001b[38;5;241m=\u001b[39m \u001b[38;5;241;43m10\u001b[39;49m\u001b[43m \u001b[49m\u001b[38;5;241;43m/\u001b[39;49m\u001b[43m \u001b[49m\u001b[38;5;241;43m0\u001b[39;49m  \u001b[38;5;66;03m# This will raise a ZeroDivisionError\u001b[39;00m\n\u001b[0;32m      5\u001b[0m \u001b[38;5;28;01mexcept\u001b[39;00m \u001b[38;5;167;01mValueError\u001b[39;00m:\n\u001b[0;32m      6\u001b[0m     \u001b[38;5;28mprint\u001b[39m(\u001b[38;5;124m\"\u001b[39m\u001b[38;5;124mCaught a ValueError\u001b[39m\u001b[38;5;124m\"\u001b[39m)\n",
      "\u001b[1;31mZeroDivisionError\u001b[0m: division by zero"
     ]
    }
   ],
   "source": [
    "# Here's an example in Python:\n",
    "\n",
    "try:\n",
    "    result = 10 / 0  # This will raise a ZeroDivisionError\n",
    "except ValueError:\n",
    "    print(\"Caught a ValueError\")\n"
   ]
  },
  {
   "cell_type": "markdown",
   "id": "92cd4636",
   "metadata": {},
   "source": [
    "In this example, a ZeroDivisionError is raised because we are trying to divide by zero. However, there is no \"except ZeroDivisionError\" block to catch this specific exception. As a result, the program will crash, and error message pop up."
   ]
  },
  {
   "cell_type": "markdown",
   "id": "cf463cb9",
   "metadata": {},
   "source": [
    "4. What is the difference between using a bare except block and specifying a specific\n",
    "exception type?"
   ]
  },
  {
   "cell_type": "markdown",
   "id": "75556398",
   "metadata": {},
   "source": [
    "Using a bare (or generic) except block and specifying a specific exception type have distinct implications for error handling in programming:\n",
    "\n",
    "a) Specific Exception Type:\n",
    "When we specify a specific exception type in an except block, we are instructing the program to catch and handle only that particular type of exception. This allows us to tailor our error-handling code to the specific circumstances of that exception. "
   ]
  },
  {
   "cell_type": "code",
   "execution_count": 4,
   "id": "ee118d74",
   "metadata": {},
   "outputs": [
    {
     "name": "stdout",
     "output_type": "stream",
     "text": [
      "Cannot divide by zero!\n"
     ]
    }
   ],
   "source": [
    "# Example:\n",
    "\n",
    "try:\n",
    "    result = 10 / 0\n",
    "except ZeroDivisionError:\n",
    "    print(\"Cannot divide by zero!\")\n",
    "    \n",
    "#In this example, only a ZeroDivisionError will be caught and handled, \n",
    "#while other types of exceptions will not be caught by this block.\n"
   ]
  },
  {
   "cell_type": "markdown",
   "id": "1d8e2a0d",
   "metadata": {},
   "source": [
    "b) Bare (Generic) Except Block:\n",
    "Using a bare except block without specifying a specific exception type catches all types of exceptions. This might seem convenient, but it can potentially mask programming errors or obscure valuable debugging information, since we won't know exactly what type of exception occurred"
   ]
  },
  {
   "cell_type": "code",
   "execution_count": 5,
   "id": "a658e60e",
   "metadata": {},
   "outputs": [
    {
     "name": "stdout",
     "output_type": "stream",
     "text": [
      "An error occurred!\n"
     ]
    }
   ],
   "source": [
    "#Example:\n",
    "\n",
    "try:\n",
    "    result = 10 / 0\n",
    "except:\n",
    "    print(\"An error occurred!\")\n",
    "\n"
   ]
  },
  {
   "cell_type": "markdown",
   "id": "3e9488b1",
   "metadata": {},
   "source": [
    "In this case, any type of exception, including ZeroDivisionError, ValueError, and more, would be caught and handled by the same block. This can make it harder to diagnose and fix issues in the code.\n",
    "\n",
    "It's generally recommended to use specific exception handling whenever possible. This approach provides better control over how different types of exceptions are handled and maintains the clarity of the code. Using a bare except block should be avoided unless have a strong reason to catch all exceptions and we are able to handle them appropriately.\n",
    "\n",
    "If we are uncertain about the specific exception types that might occur, we can still use a more general approach while capturing the exception object for further inspection:"
   ]
  },
  {
   "cell_type": "code",
   "execution_count": 8,
   "id": "19a6f5c9",
   "metadata": {},
   "outputs": [
    {
     "name": "stdout",
     "output_type": "stream",
     "text": [
      "An error occurred: division by zero\n"
     ]
    }
   ],
   "source": [
    "try:\n",
    "    result = 10 / 0\n",
    "except Exception as e:\n",
    "    print(\"An error occurred:\", e)\n"
   ]
  },
  {
   "cell_type": "markdown",
   "id": "e55f198d",
   "metadata": {},
   "source": [
    "This way, we catch a broader range of exceptions while still being able to access the specific exception details for debugging purposes."
   ]
  },
  {
   "cell_type": "markdown",
   "id": "b0811c0a",
   "metadata": {},
   "source": [
    "5. Can you have nested try-except blocks in Python? If yes, then give an example."
   ]
  },
  {
   "cell_type": "markdown",
   "id": "b568a029",
   "metadata": {},
   "source": [
    "Yes, we can have nested try-except blocks in Python. This means that we can place a try-except block inside another try or except block. This allows us to handle exceptions at different levels of program execution. "
   ]
  },
  {
   "cell_type": "code",
   "execution_count": 10,
   "id": "19c7957e",
   "metadata": {},
   "outputs": [
    {
     "name": "stdout",
     "output_type": "stream",
     "text": [
      "Enter a number: 0\n",
      "Inner: Cannot divide by zero!\n"
     ]
    }
   ],
   "source": [
    "# Here's a brief example:\n",
    "\n",
    "try:\n",
    "    outer_value = int(input(\"Enter a number: \"))\n",
    "    try:\n",
    "        inner_value = 10 / outer_value\n",
    "        print(\"Result:\", inner_value)\n",
    "    except ZeroDivisionError:\n",
    "        print(\"Inner: Cannot divide by zero!\")\n",
    "except ValueError:\n",
    "    print(\"Outer: Invalid input! Please enter a valid number.\")\n",
    "except Exception as e:\n",
    "    print(\"An error occurred:\", e)\n",
    "    \n"
   ]
  },
  {
   "cell_type": "markdown",
   "id": "0b5dfb10",
   "metadata": {},
   "source": [
    "In this example, there are two levels of try-except blocks. The outer block handles ValueError and any other exceptions that might occur during the input process. The inner block, nested within the outer block, handles the potential ZeroDivisionError that might occur during the division operation."
   ]
  },
  {
   "cell_type": "markdown",
   "id": "aefa1145",
   "metadata": {},
   "source": [
    "6. Can we use multiple exception blocks, if yes then give an example."
   ]
  },
  {
   "cell_type": "markdown",
   "id": "8e01c1a1",
   "metadata": {},
   "source": [
    "Yes, we can use multiple except blocks to handle different types of exceptions that might occur within a single try block. This allows to provide specific handling for various types of exceptions. "
   ]
  },
  {
   "cell_type": "code",
   "execution_count": 12,
   "id": "c36e5f57",
   "metadata": {},
   "outputs": [
    {
     "name": "stdout",
     "output_type": "stream",
     "text": [
      "Enter a number: s12\n",
      "Invalid input! Please enter a valid number.\n"
     ]
    }
   ],
   "source": [
    "# Here's an example:\n",
    "\n",
    "try:\n",
    "    num = int(input(\"Enter a number: \"))\n",
    "    result = 10 / num\n",
    "    print(\"Result:\", result)\n",
    "except ZeroDivisionError:\n",
    "    print(\"Cannot divide by zero!\")\n",
    "except ValueError:\n",
    "    print(\"Invalid input! Please enter a valid number.\")\n",
    "except Exception as e:\n",
    "    print(\"An error occurred:\", e)\n"
   ]
  },
  {
   "cell_type": "markdown",
   "id": "2da96126",
   "metadata": {},
   "source": [
    "In this example, there are three except blocks:\n",
    "\n",
    "The first except ZeroDivisionError block handles the case where the user enters 0, causing a ZeroDivisionError during the division operation.\n",
    "\n",
    "The second except ValueError block handles the case where the user enters a value that cannot be converted to an integer.\n",
    "\n",
    "The third except Exception as e block is a catch-all for any other unexpected exceptions. It prints a generic error message along with the exception information.\n",
    "\n",
    "we can have multiple except blocks following a single try block, each handling a specific type of exception. This approach makes our error handling more precise and informative for different scenarios.\n",
    "\n",
    "\n",
    "\n",
    "\n",
    "\n"
   ]
  },
  {
   "cell_type": "markdown",
   "id": "57abe101",
   "metadata": {},
   "source": [
    "7. Write the reason due to which following errors are raised:\n",
    "a. EOFError\n",
    "b. FloatingPointError\n",
    "c. IndexError\n",
    "d. MemoryError\n",
    "e. OverflowError\n",
    "f. TabError\n",
    "g. ValueError"
   ]
  },
  {
   "cell_type": "markdown",
   "id": "e652df98",
   "metadata": {},
   "source": [
    "a)  EOFError: \n",
    "\n",
    "EOFError stands for \"End of File Error.\" It is raised when an input operation reaches the end of a file or stream unexpectedly, but more input was expected. It commonly occurs when reading from a file and the end of the file is reached before expected data is read.\n",
    "\n",
    "b) FloatingPointError:\n",
    "\n",
    "FloatingPointError is raised when a floating-point arithmetic operation fails to produce a valid result. This typically occurs when performing calculations that result in mathematical errors, such as division by zero or calculations that exceed the limits of floating-point representation.\n",
    " \n",
    "c) IndexError:\n",
    "\n",
    "IndexError is raised when trying to access an index of a sequence (such as a list or tuple) that is out of range. This happens when the specified index is negative or greater than or equal to the length of the sequence.\n",
    " \n",
    "d) MemoryError:\n",
    "\n",
    "MemoryError is raised when an operation fails due to insufficient memory to complete it. This can happen when trying to allocate more memory than the system has available.\n",
    "\n",
    "e) OverflowError:\n",
    "\n",
    "OverflowError is raised when a numerical operation exceeds the limits of its data type. For example, trying to store a value in a variable that's too large to be represented by the data type will result in an OverflowError.\n",
    "\n",
    "f) TabError:\n",
    "\n",
    "TabError is raised when there are inconsistencies in the usage of tabs and spaces for indentation in Python code. It often occurs when mixing tabs and spaces within the same block of code, causing an indentation-related syntax error.\n",
    "\n",
    "g) ValueError:\n",
    "\n",
    "ValueError is raised when an operation receives an argument of the correct data type, but the argument's value is inappropriate or outside of the expected range. This error can occur, for example, when trying to convert a string to an integer if the string doesn't represent a valid integer.\n",
    "\n",
    "Understanding these error types and their causes can help write more robust and error-tolerant code.\n",
    "\n",
    "\n",
    "\n",
    "\n",
    "\n"
   ]
  },
  {
   "cell_type": "markdown",
   "id": "b76abcdc",
   "metadata": {},
   "source": [
    "8. Write code for the following given scenario and add try-exception block to it.\n",
    "a. Program to divide two numbers\n",
    "b. Program to convert a string to an integer\n",
    "c. Program to access an element in a list\n",
    "d. Program to handle a specific exception\n",
    "e. Program to handle any exception"
   ]
  },
  {
   "cell_type": "markdown",
   "id": "9b7046cd",
   "metadata": {},
   "source": [
    "Here's code for each of the scenarios, along with try-except blocks to handle potential exceptions:"
   ]
  },
  {
   "cell_type": "code",
   "execution_count": 13,
   "id": "4743649e",
   "metadata": {},
   "outputs": [
    {
     "name": "stdout",
     "output_type": "stream",
     "text": [
      "Enter the numerator: 10\n",
      "Enter the denominator: 0\n",
      "Cannot divide by zero!\n"
     ]
    }
   ],
   "source": [
    "# Program to divide two numbers:\n",
    "\n",
    "try:\n",
    "    numerator = int(input(\"Enter the numerator: \"))\n",
    "    denominator = int(input(\"Enter the denominator: \"))\n",
    "    result = numerator / denominator\n",
    "    print(\"Result:\", result)\n",
    "except ZeroDivisionError:\n",
    "    print(\"Cannot divide by zero!\")\n",
    "except ValueError:\n",
    "    print(\"Invalid input! Please enter valid numbers.\")\n",
    "except Exception as e:\n",
    "    print(\"An error occurred:\", e)\n",
    "\n",
    "    "
   ]
  },
  {
   "cell_type": "code",
   "execution_count": 15,
   "id": "d0339e0e",
   "metadata": {},
   "outputs": [
    {
     "name": "stdout",
     "output_type": "stream",
     "text": [
      "Enter a number: hf52\n",
      "Invalid input! Please enter a valid integer.\n"
     ]
    }
   ],
   "source": [
    "# Program to convert a string to an integer:\n",
    "try:\n",
    "    string_num = input(\"Enter a number: \")\n",
    "    integer_num = int(string_num)\n",
    "    print(\"Converted integer:\", integer_num)\n",
    "except ValueError:\n",
    "    print(\"Invalid input! Please enter a valid integer.\")\n",
    "except Exception as e:\n",
    "    print(\"An error occurred:\", e)\n"
   ]
  },
  {
   "cell_type": "code",
   "execution_count": 17,
   "id": "fcec364d",
   "metadata": {},
   "outputs": [
    {
     "name": "stdout",
     "output_type": "stream",
     "text": [
      "Enter an index: 4\n",
      "Index out of range! Please enter a valid index.\n"
     ]
    }
   ],
   "source": [
    "# Program to access an element in a list:\n",
    "\n",
    "try:\n",
    "    my_list = [1, 2, 3]\n",
    "    index = int(input(\"Enter an index: \"))\n",
    "    value = my_list[index]\n",
    "    print(\"Value at index\", index, \":\", value)\n",
    "except IndexError:\n",
    "    print(\"Index out of range! Please enter a valid index.\")\n",
    "except ValueError:\n",
    "    print(\"Invalid input! Please enter a valid index.\")\n",
    "except Exception as e:\n",
    "    print(\"An error occurred:\", e)\n"
   ]
  },
  {
   "cell_type": "code",
   "execution_count": 18,
   "id": "f115c0c5",
   "metadata": {},
   "outputs": [
    {
     "name": "stdout",
     "output_type": "stream",
     "text": [
      "Enter a number: -23\n",
      "ValueError: Negative numbers not allowed\n"
     ]
    }
   ],
   "source": [
    "# Program to handle a specific exception:\n",
    "\n",
    "try:\n",
    "    num = int(input(\"Enter a number: \"))\n",
    "    if num < 0:\n",
    "        raise ValueError(\"Negative numbers not allowed\")\n",
    "    print(\"Number:\", num)\n",
    "except ValueError as ve:\n",
    "    print(\"ValueError:\", ve)\n",
    "except Exception as e:\n",
    "    print(\"An error occurred:\", e)\n"
   ]
  },
  {
   "cell_type": "code",
   "execution_count": 19,
   "id": "b836d323",
   "metadata": {},
   "outputs": [
    {
     "name": "stdout",
     "output_type": "stream",
     "text": [
      "An error occurred: division by zero\n"
     ]
    }
   ],
   "source": [
    "#  Program to handle any exception:\n",
    "\n",
    "try:\n",
    "    x = 10 / 0  # This will raise a ZeroDivisionError\n",
    "except Exception as e:\n",
    "    print(\"An error occurred:\", e)\n"
   ]
  },
  {
   "cell_type": "markdown",
   "id": "b86e1a14",
   "metadata": {},
   "source": [
    "In this last example, the broad except Exception as e block catches any type of exception that occurs within the try block. However, it's generally better to handle specific exceptions when possible, as it allows for more precise error handling and debugging."
   ]
  },
  {
   "cell_type": "code",
   "execution_count": null,
   "id": "92288abd",
   "metadata": {},
   "outputs": [],
   "source": []
  },
  {
   "cell_type": "code",
   "execution_count": null,
   "id": "1ab6556d",
   "metadata": {},
   "outputs": [],
   "source": []
  }
 ],
 "metadata": {
  "kernelspec": {
   "display_name": "Python 3 (ipykernel)",
   "language": "python",
   "name": "python3"
  },
  "language_info": {
   "codemirror_mode": {
    "name": "ipython",
    "version": 3
   },
   "file_extension": ".py",
   "mimetype": "text/x-python",
   "name": "python",
   "nbconvert_exporter": "python",
   "pygments_lexer": "ipython3",
   "version": "3.10.9"
  }
 },
 "nbformat": 4,
 "nbformat_minor": 5
}
