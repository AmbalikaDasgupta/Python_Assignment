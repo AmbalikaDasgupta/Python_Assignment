{
 "cells": [
  {
   "cell_type": "markdown",
   "id": "a88a85c5",
   "metadata": {},
   "source": [
    "1. In Python, what is the difference between a built-in function and a user-defined function? Provide an\n",
    "example of each."
   ]
  },
  {
   "cell_type": "markdown",
   "id": "a2b81e74",
   "metadata": {},
   "source": [
    "In Python, the main difference between a built-in function and a user-defined function lies in their origin and availability. Here's a brief explanation of each:\n",
    "\n",
    "1) Built-in Function:\n",
    "Built-in functions are pre-defined functions provided by the Python programming language itself. They are part of Python's standard library and can be directly used without the need for any additional imports or definitions. These functions cover a wide range of operations and tasks, such as working with strings, lists, mathematical calculations, file operations, etc.\n",
    "Example of a built-in function: len()\n",
    "\n",
    "The len() function is a built-in function used to determine the number of elements in a sequence like a string, list, tuple, etc.\n",
    "\n"
   ]
  },
  {
   "cell_type": "code",
   "execution_count": 3,
   "id": "797a1855",
   "metadata": {},
   "outputs": [
    {
     "name": "stdout",
     "output_type": "stream",
     "text": [
      "12\n"
     ]
    }
   ],
   "source": [
    "# Example of Build-in function\n",
    "a=\"Good Morning\"\n",
    "length_of_string=len(a)\n",
    "\n",
    "print(length_of_string)"
   ]
  },
  {
   "cell_type": "markdown",
   "id": "0e746918",
   "metadata": {},
   "source": [
    "2) User-defined Function:\n",
    "User-defined functions are functions created by programmers to perform specific tasks based on their requirements. These functions are defined using the def keyword followed by the function name, parameters (if any), and a block of code that executes the desired operations. Once defined, these functions can be called and used as needed throughout the program.\n",
    "\n",
    "Example of a user-defined function: add_numbers()"
   ]
  },
  {
   "cell_type": "code",
   "execution_count": 4,
   "id": "5e2efd6e",
   "metadata": {},
   "outputs": [],
   "source": [
    "# Example of user-defined function\n",
    "def add_numbers(a,b):\n",
    "    c=a+b\n",
    "    print(\"Sum:\",c)\n",
    "    "
   ]
  },
  {
   "cell_type": "code",
   "execution_count": 6,
   "id": "c7577a74",
   "metadata": {},
   "outputs": [
    {
     "name": "stdout",
     "output_type": "stream",
     "text": [
      "Sum: 10\n"
     ]
    }
   ],
   "source": [
    "add_numbers(5,5)"
   ]
  },
  {
   "cell_type": "markdown",
   "id": "c2cb1e79",
   "metadata": {},
   "source": [
    "2. How can you pass arguments to a function in Python? Explain the difference between positional\n",
    "arguments and keyword arguments."
   ]
  },
  {
   "cell_type": "markdown",
   "id": "ef706efe",
   "metadata": {},
   "source": [
    "Difference type of arguments are positional arguments, keyword arguments, and default arguments used in Python. Additionally,  variable-length arguments can use (*args and **kwargs) to handle a variable number of arguments.\n",
    "\n",
    "1.Positional Arguments: Arguments are passed based on their position in the function's parameter list.\n",
    "\n",
    "2.Keyword Arguments: Arguments are passed using explicit parameter names.\n",
    "\n",
    "3.Default Arguments: Parameters can have default values, which are used if the corresponding argument is not provided during the function call.\n",
    "\n",
    "4.Variable-length Arguments: *args allows passing a variable number of positional arguments, and **kwargs allows passing a variable number of keyword arguments."
   ]
  },
  {
   "cell_type": "code",
   "execution_count": 8,
   "id": "77950b4c",
   "metadata": {},
   "outputs": [
    {
     "name": "stdout",
     "output_type": "stream",
     "text": [
      "Hello, Ambalika! You are 29 years old.\n",
      "Hello, Ambalika! You are 29 years old, and you are from Unknown.\n",
      "Hello, Ambalika! You are 29 years old, and you are from Bangalore.\n",
      "name: Ambalika\n",
      "age: 29\n",
      "city: Bangalore\n"
     ]
    }
   ],
   "source": [
    "#Examples:\n",
    "\n",
    "# Positional Arguments\n",
    "def add_numbers(a, b):\n",
    "    return a + b\n",
    "\n",
    "result = add_numbers(5, 10)\n",
    "\n",
    "# Keyword Arguments\n",
    "def greet(name, age):\n",
    "    print(f\"Hello, {name}! You are {age} years old.\")\n",
    "\n",
    "greet(age=29, name=\"Ambalika\")\n",
    "\n",
    "# Default Arguments\n",
    "def greet_with_city(name, age, city=\"Unknown\"):\n",
    "    print(f\"Hello, {name}! You are {age} years old, and you are from {city}.\")\n",
    "\n",
    "greet_with_city(\"Ambalika\", 29)\n",
    "greet_with_city(\"Ambalika\", 29, city=\"Bangalore\")\n",
    "\n",
    "# Variable-length Arguments\n",
    "def sum_numbers(*args):\n",
    "    total = 0\n",
    "    for num in args:\n",
    "        total += num\n",
    "    return total\n",
    "\n",
    "result = sum_numbers(1, 2, 3, 4, 5)\n",
    "\n",
    "def print_info(**kwargs):\n",
    "    for key, value in kwargs.items():\n",
    "        print(f\"{key}: {value}\")\n",
    "\n",
    "print_info(name=\"Ambalika\", age=29, city=\"Bangalore\")\n"
   ]
  },
  {
   "cell_type": "markdown",
   "id": "92f20366",
   "metadata": {},
   "source": [
    "Difference between positional and keyword arguments:\n",
    "\n",
    "Positional arguments rely on the order of the arguments to match them to function parameters, while keyword arguments use explicit parameter names.\n",
    "\n",
    "In positional arguments, the order matters, and the number of arguments passed must match the number of parameters defined in the function. In keyword arguments, the order doesn't matter, and we can skip some arguments if they have default values.\n"
   ]
  },
  {
   "cell_type": "markdown",
   "id": "84f5349b",
   "metadata": {},
   "source": [
    "3. What is the purpose of the return statement in a function? Can a function have multiple return\n",
    "statements? Explain with an example."
   ]
  },
  {
   "cell_type": "markdown",
   "id": "3c58f1ec",
   "metadata": {},
   "source": [
    "The purpose of the return statement in a function is to specify the value that the function will return when it is called. When a return statement is encountered in a function, it immediately exits the function and sends the specified value back to the caller. The value returned by the function can then be assigned to a variable or used in other parts of the code.\n",
    "\n",
    "Yes, a function can have multiple return statements. However, only one return statement will be executed during a single function call. When a return statement is encountered, the function's execution is halted, and the value specified in that return statement is sent back to the caller. Subsequent return statements in the same function will not be executed.\n",
    "\n",
    "Example of a function with multiple return statements:"
   ]
  },
  {
   "cell_type": "code",
   "execution_count": 6,
   "id": "bb443cdf",
   "metadata": {},
   "outputs": [
    {
     "name": "stdout",
     "output_type": "stream",
     "text": [
      "Negative\n"
     ]
    }
   ],
   "source": [
    "def check_number(number):\n",
    "    if number > 0:\n",
    "        return \"Positive\"\n",
    "    elif number < 0:\n",
    "        return \"Negative\"\n",
    "    else:\n",
    "        return \"Zero\"\n",
    "\n",
    "result = check_number(-2)\n",
    "print(result)\n",
    "\n"
   ]
  },
  {
   "cell_type": "markdown",
   "id": "46c1eb7c",
   "metadata": {},
   "source": [
    "In this example, the function check_number takes a single argument number. It contains three return statements within different conditional blocks. Depending on the value of the number, one of the return statements will be executed, and the corresponding string will be returned to the caller."
   ]
  },
  {
   "cell_type": "markdown",
   "id": "de27e068",
   "metadata": {},
   "source": [
    "4. What are lambda functions in Python? How are they different from regular functions? Provide an\n",
    "example where a lambda function can be useful."
   ]
  },
  {
   "cell_type": "markdown",
   "id": "22c17e74",
   "metadata": {},
   "source": [
    "Lambda functions in Python are small, anonymous functions that can have any number of arguments but can only have one expression. They are also known as \"anonymous functions\" because they don't have a name like regular functions defined using the def keyword. Lambda functions are defined using the lambda keyword, and their syntax is quite concise.\n",
    "\n",
    "The general syntax of a lambda function is: lambda arguments: expression\n",
    "\n",
    "Lambda functions are useful when a simple function is needed for a short duration and don't want to define a full-fledged function using def. They are commonly used as functional arguments for higher-order functions like map(), filter(), and sorted().\n",
    "\n",
    "Here's an example of a regular function and its equivalent lambda function:"
   ]
  },
  {
   "cell_type": "code",
   "execution_count": 9,
   "id": "f2913541",
   "metadata": {},
   "outputs": [
    {
     "name": "stdout",
     "output_type": "stream",
     "text": [
      "5\n",
      "5\n"
     ]
    }
   ],
   "source": [
    "# Regular function:\n",
    "def add(a, b):\n",
    "    return a + b\n",
    "\n",
    "result = add(2, 3)\n",
    "print(result) \n",
    "\n",
    "\n",
    "\n",
    "# Equivalent lambda function:\n",
    "add_lambda = lambda a, b: a + b\n",
    "\n",
    "result = add_lambda(2, 3)\n",
    "print(result) \n",
    "\n"
   ]
  },
  {
   "cell_type": "markdown",
   "id": "6c7aace9",
   "metadata": {},
   "source": [
    "Lambda functions are different from regular functions in the following ways:\n",
    "\n",
    "1) Syntax: Lambda functions are defined using the lambda keyword, whereas regular functions are defined using the def keyword.\n",
    "\n",
    "2) Name: Lambda functions are anonymous and don't have a specific name, while regular functions have a name to identify them.\n",
    "\n",
    "3) Function Body: Lambda functions can only contain a single expression, while regular functions can have multiple statements in their body."
   ]
  },
  {
   "cell_type": "markdown",
   "id": "e09affc3",
   "metadata": {},
   "source": [
    "5. How does the concept of \"scope\" apply to functions in Python? Explain the difference between local\n",
    "scope and global scope."
   ]
  },
  {
   "cell_type": "markdown",
   "id": "367800f7",
   "metadata": {},
   "source": [
    "In Python, the concept of \"scope\" refers to the area in a program where a variable is accessible and can be referenced. The scope determines the visibility and lifetime of variables. Python has two main types of scopes: local scope and global scope.\n",
    "\n",
    "1) Local Scope:\n",
    "Variables defined inside a function have a local scope. They can only be accessed within the function they are defined in and are not accessible outside of that function. Once the function finishes executing, the local variables are destroyed, and their memory is released."
   ]
  },
  {
   "cell_type": "code",
   "execution_count": 11,
   "id": "09177536",
   "metadata": {},
   "outputs": [
    {
     "name": "stdout",
     "output_type": "stream",
     "text": [
      "10\n"
     ]
    }
   ],
   "source": [
    "# Example of local scope:\n",
    "\n",
    "def my_function():\n",
    "    x = 10  # This is a local variable\n",
    "    print(x)\n",
    "\n",
    "my_function()\n",
    "\n",
    "# In this example, the variable x is defined inside the function my_function, making it a local variable. \n",
    "# It can only be used within the function."
   ]
  },
  {
   "cell_type": "markdown",
   "id": "f6daac84",
   "metadata": {},
   "source": [
    "2) Global Scope:\n",
    "Variables defined outside any function or at the top level of a script have a global scope. They can be accessed from any part of the code, including inside functions. Global variables persist throughout the program's execution, and their values can be modified both inside and outside functions."
   ]
  },
  {
   "cell_type": "code",
   "execution_count": 13,
   "id": "3d30cc19",
   "metadata": {},
   "outputs": [
    {
     "name": "stdout",
     "output_type": "stream",
     "text": [
      "5\n",
      "20\n"
     ]
    }
   ],
   "source": [
    "# Example of global Scope:\n",
    "\n",
    "y = 5  # This is a global variable\n",
    "\n",
    "def my_function():\n",
    "    print(y)\n",
    "\n",
    "my_function()\n",
    "\n",
    "\n",
    "# Modifying the global variable inside the function\n",
    "def modify_global():\n",
    "    global y\n",
    "    y = 20\n",
    "\n",
    "modify_global()\n",
    "print(y)\n",
    "\n",
    "\n",
    "# In this example, the variable y is defined outside the function, making it a global variable.\n",
    "# It can be accessed and modified both inside and outside functions.\n"
   ]
  },
  {
   "cell_type": "markdown",
   "id": "2c4ebc6e",
   "metadata": {},
   "source": [
    "Difference between local scope and global scope:\n",
    "\n",
    "1) Accessibility: Local variables are only accessible within the function they are defined in, while global variables are accessible from any part of the code, including inside functions.\n",
    "\n",
    "2) Lifetime: Local variables have a limited lifetime that extends only within the function's execution, while global variables persist throughout the program's execution.\n",
    "\n",
    "3) Modifiability: Local variables cannot be modified outside the function they are defined in. If we want to modify a global variable inside a function, we need to use the global keyword to indicate that we are referring to the global variable rather than creating a new local variable with the same name.\n",
    "\n",
    "\n",
    "\n",
    "\n"
   ]
  },
  {
   "cell_type": "markdown",
   "id": "96104159",
   "metadata": {},
   "source": [
    "6. How can you use the \"return\" statement in a Python function to return multiple values?"
   ]
  },
  {
   "cell_type": "markdown",
   "id": "8afb9ea9",
   "metadata": {},
   "source": [
    "In Python, we can use the return statement in a function to return multiple values by returning them as a tuple, list, or any other suitable data structure. The return statement can pack multiple values into a single variable, and the caller can then unpack these values after calling the function.\n",
    "\n",
    "Here's an example of how to use the return statement to return multiple values:"
   ]
  },
  {
   "cell_type": "code",
   "execution_count": 15,
   "id": "ab4b59ad",
   "metadata": {},
   "outputs": [
    {
     "name": "stdout",
     "output_type": "stream",
     "text": [
      "('Alice', 30, 'New York')\n",
      "Alice\n",
      "30\n",
      "New York\n"
     ]
    }
   ],
   "source": [
    "def get_user_info():\n",
    "    name = \"Alice\"\n",
    "    age = 30\n",
    "    city = \"New York\"\n",
    "    return name, age, city\n",
    "\n",
    "user_info = get_user_info()\n",
    "print(user_info)\n",
    "\n",
    "\n",
    "# Unpacking the returned values\n",
    "name, age, city = get_user_info()\n",
    "print(name)  \n",
    "print(age)   \n",
    "print(city)  \n"
   ]
  },
  {
   "cell_type": "markdown",
   "id": "dbf85946",
   "metadata": {},
   "source": [
    "In this example, the function get_user_info() returns three values: name, age, and city. These values are returned as a tuple, and when the function is called, they are packed together. We then unpack the returned tuple and assign each value to separate variables.\n",
    "\n",
    "Alternatively, return multiple values as a list:"
   ]
  },
  {
   "cell_type": "code",
   "execution_count": 18,
   "id": "44f5ad9d",
   "metadata": {},
   "outputs": [
    {
     "name": "stdout",
     "output_type": "stream",
     "text": [
      "['Alice', 30, 'New York']\n"
     ]
    }
   ],
   "source": [
    "def get_user_info():\n",
    "    name = \"Alice\"\n",
    "    age = 30\n",
    "    city = \"New York\"\n",
    "    return [name, age, city]\n",
    "\n",
    "user_info = get_user_info()\n",
    "print(user_info)\n"
   ]
  },
  {
   "cell_type": "markdown",
   "id": "321eeee2",
   "metadata": {},
   "source": [
    "7. What is the difference between the \"pass by value\" and \"pass by reference\" concepts when it\n",
    "comes to function arguments in Python?"
   ]
  },
  {
   "cell_type": "markdown",
   "id": "f7a780ab",
   "metadata": {},
   "source": [
    "In Python, the concepts of \"pass by value\" and \"pass by reference\" are often a source of confusion, but they can be better understood as \"pass by object reference\" and \"pass by object value.\" The distinction lies in how the function arguments are treated with respect to the objects they reference.\n",
    "\n",
    "1.Pass by Object Reference (or Pass by Reference):\n",
    "In Python, when we pass an object as an argument to a function, we are passing its reference (memory address) rather than the actual value of the object. The function parameter becomes a reference to the same object in memory, allowing the function to access and modify the object's contents.\n",
    "Example of Pass by Object Reference:"
   ]
  },
  {
   "cell_type": "code",
   "execution_count": 19,
   "id": "925cbc41",
   "metadata": {},
   "outputs": [
    {
     "name": "stdout",
     "output_type": "stream",
     "text": [
      "[1, 2, 3, 4]\n"
     ]
    }
   ],
   "source": [
    "def modify_list(lst):\n",
    "    lst.append(4)  # Modifies the original list\n",
    "\n",
    "my_list = [1, 2, 3]\n",
    "modify_list(my_list)\n",
    "print(my_list)  \n",
    "\n",
    "# In this example, the modify_list() function takes a list as an argument and appends the value 4 to the list. \n",
    "# Since lists are mutable objects, the function directly modifies the original list that was passed to it."
   ]
  },
  {
   "cell_type": "markdown",
   "id": "a0085b47",
   "metadata": {},
   "source": [
    "2.Pass by Object Value (or Pass by Value):\n",
    "For immutable objects like integers, strings, and tuples, Python behaves like pass by value. When we pass an immutable object to a function, a copy of the object's value is passed, and any modifications made to the parameter within the function will not affect the original object.\n",
    "Example of Pass by Object Value:"
   ]
  },
  {
   "cell_type": "code",
   "execution_count": 21,
   "id": "9b8bb771",
   "metadata": {},
   "outputs": [
    {
     "name": "stdout",
     "output_type": "stream",
     "text": [
      "5\n"
     ]
    }
   ],
   "source": [
    "def modify_number(num):\n",
    "    num += 10  # Does not affect the original number\n",
    "\n",
    "my_number = 5\n",
    "modify_number(my_number)\n",
    "print(my_number) \n",
    "\n",
    "# In this example, the modify_number() function takes an integer as an argument and adds 10 to it.\n",
    "# However, integers are immutable in Python, so the function operates on a copy of the value rather than the original variable. \n",
    "# As a result, the original value of my_number remains unchanged."
   ]
  },
  {
   "cell_type": "markdown",
   "id": "9dafe3b7",
   "metadata": {},
   "source": [
    "Summary:\n",
    "\n",
    "Python uses \"pass by object reference\" for mutable objects like lists, dictionaries, etc. Changes made to the object within the function will affect the original object outside the function.\n",
    "\n",
    "Python uses \"pass by object value\" for immutable objects like integers, strings, and tuples. Any modifications made to the parameter within the function do not affect the original object outside the function.\n",
    "\n",
    "\n",
    "\n",
    "\n"
   ]
  },
  {
   "cell_type": "markdown",
   "id": "49d60feb",
   "metadata": {},
   "source": [
    "8. Create a function that can intake integer or decimal value and do following operations:\n",
    "\n",
    "a. Logarithmic function (log x)\n",
    "\n",
    "b. Exponential function (exp(x))\n",
    "\n",
    "c. Power function with base 2 (2x)\n",
    "\n",
    "d. Square root"
   ]
  },
  {
   "cell_type": "code",
   "execution_count": 1,
   "id": "cf1d4da6",
   "metadata": {},
   "outputs": [
    {
     "name": "stdout",
     "output_type": "stream",
     "text": [
      "Integer result: (2.302585092994046, 22026.465794806718, 1024.0, 3.1622776601683795)\n",
      "Decimal result: (0.9162907318741551, 12.182493960703473, 5.656854249492381, 1.5811388300841898)\n"
     ]
    }
   ],
   "source": [
    "import math\n",
    "\n",
    "def math_operations(x):\n",
    "    # Logarithmic function (log x)\n",
    "    log_result = math.log(x)\n",
    "\n",
    "    # Exponential function (exp(x))\n",
    "    exp_result = math.exp(x)\n",
    "\n",
    "    # Power function with base 2 (2^x)\n",
    "    power_result = math.pow(2, x)\n",
    "\n",
    "    # Square root\n",
    "    sqrt_result = math.sqrt(x)\n",
    "\n",
    "    return log_result, exp_result, power_result, sqrt_result\n",
    "\n",
    "# Test the function with an integer and a decimal value\n",
    "integer_result = math_operations(10)\n",
    "decimal_result = math_operations(2.5)\n",
    "\n",
    "print(\"Integer result:\", integer_result)\n",
    "print(\"Decimal result:\", decimal_result)\n"
   ]
  },
  {
   "cell_type": "markdown",
   "id": "fc446334",
   "metadata": {},
   "source": [
    "9. Create a function that takes a full name as an argument and returns first name and last name."
   ]
  },
  {
   "cell_type": "code",
   "execution_count": 21,
   "id": "4908d861",
   "metadata": {},
   "outputs": [
    {
     "name": "stdout",
     "output_type": "stream",
     "text": [
      "First Name: Ambalika Last Name: Dasgupta\n",
      "First Name: Uttara Last Name: \n"
     ]
    }
   ],
   "source": [
    "def get_first_and_last_name(full_name):\n",
    "    names = full_name.split()\n",
    "    first_name = names[0]\n",
    "    last_name = names[-1] if len(names) > 1 else \"\"\n",
    "    return first_name, last_name\n",
    "\n",
    "# Test the function\n",
    "full_name1 = \"Ambalika Dasgupta\"\n",
    "full_name2=\"Uttara\"\n",
    "\n",
    "\n",
    "first_name1, last_name1 = get_first_and_last_name(full_name1)\n",
    "first_name2, last_name2 = get_first_and_last_name(full_name2)\n",
    "\n",
    "print(\"First Name:\", first_name1, \"Last Name:\", last_name1)\n",
    "\n",
    "print(\"First Name:\", first_name2, \"Last Name:\", last_name2)\n",
    "\n",
    "\n"
   ]
  },
  {
   "cell_type": "code",
   "execution_count": null,
   "id": "fcdd80a6",
   "metadata": {},
   "outputs": [],
   "source": []
  }
 ],
 "metadata": {
  "kernelspec": {
   "display_name": "Python 3 (ipykernel)",
   "language": "python",
   "name": "python3"
  },
  "language_info": {
   "codemirror_mode": {
    "name": "ipython",
    "version": 3
   },
   "file_extension": ".py",
   "mimetype": "text/x-python",
   "name": "python",
   "nbconvert_exporter": "python",
   "pygments_lexer": "ipython3",
   "version": "3.10.9"
  }
 },
 "nbformat": 4,
 "nbformat_minor": 5
}
