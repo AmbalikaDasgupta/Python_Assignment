{
 "cells": [
  {
   "cell_type": "markdown",
   "id": "f3c79594",
   "metadata": {},
   "source": [
    "1. What is a lambda function in Python, and how does it differ from a regular function?"
   ]
  },
  {
   "cell_type": "markdown",
   "id": "12c1cf4d",
   "metadata": {},
   "source": [
    "A lambda function in Python is a small, anonymous, and inline function that can be defined using the lambda keyword. It's also sometimes referred to as a \"lambda expression\" or \"lambda form.\" Lambda functions are commonly used for simple operations where a full named function declaration might be unnecessary or cumbersome.\n",
    "\n",
    "Here's the basic syntax of a lambda function:\n",
    "lambda arguments: expression\n",
    "\n",
    "Lambda functions are typically used when we need a quick function for a short period of time, like when passing a function as an argument to another function or when working with functions like map, filter, and sorted.\n",
    "\n",
    "\n"
   ]
  },
  {
   "cell_type": "markdown",
   "id": "2adda935",
   "metadata": {},
   "source": [
    "Differences between lambda functions and regular functions:\n",
    "\n",
    "a) Syntax: Lambda functions are defined using the lambda keyword and don't require a separate function name. Regular functions are defined using the def keyword followed by a function name.\n",
    "\n",
    "b) Namelessness: Lambda functions are anonymous, meaning they don't have a name associated with them. Regular functions have a name that is used to call them.\n",
    "\n",
    "c) Scope: Lambda functions have a more limited scope for the body of the function. They can only contain a single expression and cannot include multiple statements or complex logic.\n",
    "\n",
    "d) Return: Lambda functions automatically return the value of the expression they contain. Regular functions use the return statement to explicitly define what value they should return.\n",
    "\n",
    "e) Readability: While lambda functions can be concise, they can sometimes lead to less readable code when used for complex operations. Regular functions can have more descriptive names and can include multiple lines of code, enhancing code readability.\n",
    "\n"
   ]
  },
  {
   "cell_type": "code",
   "execution_count": 2,
   "id": "46f881d6",
   "metadata": {},
   "outputs": [
    {
     "name": "stdout",
     "output_type": "stream",
     "text": [
      "8\n"
     ]
    }
   ],
   "source": [
    "# Here's an example to illustrate the differences:\n",
    "\n",
    "#Lambda function:\n",
    "\n",
    "add = lambda x, y: x + y\n",
    "result = add(3, 5)\n",
    "print(result)\n"
   ]
  },
  {
   "cell_type": "code",
   "execution_count": 5,
   "id": "6efa091c",
   "metadata": {},
   "outputs": [
    {
     "name": "stdout",
     "output_type": "stream",
     "text": [
      "8\n"
     ]
    }
   ],
   "source": [
    "# regular function:\n",
    "\n",
    "def add(x, y):\n",
    "    return x + y\n",
    "\n",
    "result = add(3, 5) \n",
    "print (result)"
   ]
  },
  {
   "cell_type": "markdown",
   "id": "77710eca",
   "metadata": {},
   "source": [
    "2. Can a lambda function in Python have multiple arguments? If yes, how can you define and use\n",
    "them? "
   ]
  },
  {
   "cell_type": "markdown",
   "id": "1946c4b9",
   "metadata": {},
   "source": [
    "Yes, a lambda function in Python can have multiple arguments.\n",
    "\n",
    "we can define a lambda function with multiple arguments by separating the arguments with commas, just like in a regular function.\n",
    "\n",
    "In this example, the lambda function multiply takes two arguments, x and y, and returns their product."
   ]
  },
  {
   "cell_type": "code",
   "execution_count": 6,
   "id": "b0df71a4",
   "metadata": {},
   "outputs": [
    {
     "name": "stdout",
     "output_type": "stream",
     "text": [
      "12\n"
     ]
    }
   ],
   "source": [
    "# Here's an example of a lambda function with multiple arguments:\n",
    "\n",
    "multiply = lambda x, y: x * y\n",
    "result1 = multiply(3, 4) \n",
    "print(result1)"
   ]
  },
  {
   "cell_type": "markdown",
   "id": "d774e974",
   "metadata": {},
   "source": [
    "3. How are lambda functions typically used in Python? Provide an example use case."
   ]
  },
  {
   "cell_type": "markdown",
   "id": "fc66e544",
   "metadata": {},
   "source": [
    "Lambda functions are typically used in Python for situations where we need a small, simple function for a short period of time, often in cases where defining a full named function would be unnecessary or create extra code clutter. They are commonly used in conjunction with higher-order functions that accept functions as arguments, such as map, filter, and sorted."
   ]
  },
  {
   "cell_type": "code",
   "execution_count": 8,
   "id": "16874203",
   "metadata": {},
   "outputs": [
    {
     "name": "stdout",
     "output_type": "stream",
     "text": [
      "[{'name': 'Bob', 'age': 20}, {'name': 'Alice', 'age': 22}, {'name': 'Charlie', 'age': 25}]\n"
     ]
    }
   ],
   "source": [
    "# Here's an example use case of a lambda function with the sorted function:\n",
    "\n",
    "students = [\n",
    "    {\"name\": \"Alice\", \"age\": 22},\n",
    "    {\"name\": \"Bob\", \"age\": 20},\n",
    "    {\"name\": \"Charlie\", \"age\": 25}\n",
    "]\n",
    "\n",
    "# Sort the list of students based on their age using a lambda function\n",
    "sorted_students = sorted(students, key=lambda student: student[\"age\"])\n",
    "\n",
    "print(sorted_students)\n"
   ]
  },
  {
   "cell_type": "markdown",
   "id": "ac586267",
   "metadata": {},
   "source": [
    "In this example, the lambda function is used as the key argument to the sorted function. The lambda function specifies how to extract the \"age\" value from each dictionary within the students list. The sorted function then uses this information to sort the list of students based on their ages."
   ]
  },
  {
   "cell_type": "code",
   "execution_count": 9,
   "id": "0cbecf34",
   "metadata": {},
   "outputs": [],
   "source": [
    "# Lambda functions are also commonly used with functions like map and filter.\n",
    "# Here's an example using the map function to square a list of numbers:"
   ]
  },
  {
   "cell_type": "code",
   "execution_count": 11,
   "id": "24c85112",
   "metadata": {},
   "outputs": [
    {
     "name": "stdout",
     "output_type": "stream",
     "text": [
      "[1, 4, 9, 16, 25]\n"
     ]
    }
   ],
   "source": [
    "numbers = [1, 2, 3, 4, 5]\n",
    "\n",
    "squared_numbers = list(map(lambda x: x ** 2, numbers))\n",
    "print(squared_numbers)\n"
   ]
  },
  {
   "cell_type": "markdown",
   "id": "b2d7686f",
   "metadata": {},
   "source": [
    "In this case, the lambda function is applied to each element of the numbers list using the map function, and the resulting squared values are collected into the squared_numbers list.\n",
    "\n",
    "Overall, lambda functions provide a concise and convenient way to define simple functions on-the-fly without the need to define a full named function separately. They are particularly useful in situations where we need to perform a specific operation only once and don't want to clutter us code with unnecessary function definitions."
   ]
  },
  {
   "cell_type": "markdown",
   "id": "523ab571",
   "metadata": {},
   "source": [
    "4. What are the advantages and limitations of lambda functions compared to regular functions in\n",
    "Python?"
   ]
  },
  {
   "cell_type": "markdown",
   "id": "d4459080",
   "metadata": {},
   "source": [
    "\n",
    "Lambda functions in Python offer some advantages and come with certain limitations compared to regular functions:\n",
    "\n",
    "Advantages of Lambda Functions:\n",
    "\n",
    "a) Conciseness: Lambda functions allow us to define simple functions with minimal syntax. This can make our code more compact and easier to read when the logic is straightforward.\n",
    "\n",
    "b) Anonymous: Lambda functions are anonymous, which means we don't need to come up with a descriptive function name if the function is only used in a single place.\n",
    "\n",
    "c) Readability: For simple operations, using a lambda function directly inline with higher-order functions (like map, filter, sorted, etc.) can improve the readability of our code, as the logic is presented more closely to its usage.\n",
    "\n",
    "d) Short-Lived Functions: Lambda functions are useful when we need a function for a brief period or for a specific context, avoiding the need to define a separate function.\n",
    "\n",
    "Limitations of Lambda Functions:\n",
    "\n",
    "a) Limited Complexity: Lambda functions are restricted to a single expression, which means they can't contain multiple statements or more complex logic. This limitation can make them unsuitable for functions with more intricate behaviors.\n",
    "\n",
    "b) Limited Reusability: Due to their anonymous nature, lambda functions can't be reused in multiple places within code. Regular functions can be defined with descriptive names and used wherever needed.\n",
    "\n",
    "c) Readability Concerns: Complex lambda expressions might reduce code readability, as cramming too much logic into a single line can make the code harder to understand.\n",
    "\n",
    "d) Debugging Challenges: Debugging lambda functions can be more difficult since they lack explicit names to identify them in error messages or stack traces.\n",
    "\n",
    "e) Lack of Documentation: Lambda functions don't support docstrings, making it harder to provide clear documentation for their behavior.\n",
    "\n",
    "f) Scoping Issues: While lambda functions can access variables from their containing scope, there might be cases where scoping becomes tricky and leads to unexpected behavior.\n",
    "\n",
    "g) Less Intuitive for Beginners: Lambda functions might be less intuitive for those new to programming or Python, as they might not immediately understand their purpose and syntax.\n",
    "\n",
    "In summary, lambda functions are great for simple, one-off operations and for making code more concise in specific contexts. "
   ]
  },
  {
   "cell_type": "markdown",
   "id": "195734c3",
   "metadata": {},
   "source": [
    "5. Are lambda functions in Python able to access variables defined outside of their own scope?\n",
    "Explain with an example."
   ]
  },
  {
   "cell_type": "markdown",
   "id": "b424c1ae",
   "metadata": {},
   "source": [
    "Yes, lambda functions in Python can access variables defined in their containing (enclosing) scope. This is achieved through a concept called \"lexical scoping\" or \"closure.\" Lambda functions can capture and use variables from the surrounding context in which they are defined."
   ]
  },
  {
   "cell_type": "code",
   "execution_count": 13,
   "id": "e7473117",
   "metadata": {},
   "outputs": [
    {
     "name": "stdout",
     "output_type": "stream",
     "text": [
      "18\n"
     ]
    }
   ],
   "source": [
    "# Example:\n",
    "\n",
    "x = 10  # Variable defined in the outer scope\n",
    "\n",
    "# Lambda function defined inside a function\n",
    "def outer_function():\n",
    "    y = 5  # Variable defined in the enclosing scope\n",
    "    \n",
    "    # Lambda function accessing variables from its enclosing scope\n",
    "    lambda_function = lambda z: x + y + z\n",
    "    \n",
    "    return lambda_function\n",
    "\n",
    "result = outer_function()(3)  # Call the lambda function\n",
    "print(result)  # Output will be 18 (10 + 5 + 3)\n",
    "\n",
    "# In this example, the lambda function captures the variables x from the outer scope and y from the enclosing outer_function scope.\n",
    "# It can access and use these variables when it's executed, even though they were defined outside the lambda function's own scope.\n"
   ]
  },
  {
   "cell_type": "markdown",
   "id": "6b324498",
   "metadata": {},
   "source": [
    "6. Write a lambda function to calculate the square of a given number."
   ]
  },
  {
   "cell_type": "code",
   "execution_count": 14,
   "id": "dcae41e3",
   "metadata": {},
   "outputs": [
    {
     "name": "stdout",
     "output_type": "stream",
     "text": [
      "25\n"
     ]
    }
   ],
   "source": [
    "square = lambda x: x ** 2\n",
    "\n",
    "# we can use this lambda function like this:\n",
    "\n",
    "number = 5\n",
    "result = square(number)\n",
    "print(result) \n",
    "\n",
    "# In this example, the lambda function square takes an argument x and returns its square by raising x to the power of 2.\n"
   ]
  },
  {
   "cell_type": "markdown",
   "id": "85f41e9d",
   "metadata": {},
   "source": [
    "7. Create a lambda function to find the maximum value in a list of integers."
   ]
  },
  {
   "cell_type": "code",
   "execution_count": 20,
   "id": "ab971809",
   "metadata": {
    "scrolled": true
   },
   "outputs": [
    {
     "name": "stdout",
     "output_type": "stream",
     "text": [
      "50\n"
     ]
    }
   ],
   "source": [
    "max_val=lambda x:max(x)\n",
    "\n",
    "# we can use this lambda function to find the maximum value in a list of integers like this:\n",
    "\n",
    "numbers=[20,10,30,50]\n",
    "result=max_val(numbers)\n",
    "print(result)\n",
    "\n",
    "#In this example, the lambda function max_val takes a list x \n",
    "#as an argument and returns the maximum value using the built-in max function."
   ]
  },
  {
   "cell_type": "markdown",
   "id": "30265d53",
   "metadata": {},
   "source": [
    "8. Implement a lambda function to filter out all the even numbers from a list of integers."
   ]
  },
  {
   "cell_type": "code",
   "execution_count": 22,
   "id": "9cdcc3fc",
   "metadata": {},
   "outputs": [
    {
     "name": "stdout",
     "output_type": "stream",
     "text": [
      "[2, 4, 6, 8, 10]\n"
     ]
    }
   ],
   "source": [
    "# Here's a lambda function that filters out all the even numbers from a list of integers:\n",
    "\n",
    "even_numbers = lambda lst: list(filter(lambda x: x % 2 == 0, lst))\n",
    "\n",
    "#lambda function to filter out even numbers from a list like this:\n",
    "\n",
    "numbers = [1, 2, 3, 4, 5, 6, 7, 8, 9, 10]\n",
    "result = even_numbers(numbers)\n",
    "print(result)  \n",
    "\n",
    "#In this example, the lambda function even_numbers takes a list lst as an argument and uses the filter function \n",
    "# with a lambda inside it to filter out only the even numbers from the list.\n"
   ]
  },
  {
   "cell_type": "markdown",
   "id": "847ca7cf",
   "metadata": {},
   "source": [
    "9. Write a lambda function to sort a list of strings in ascending order based on the length of each\n",
    "string."
   ]
  },
  {
   "cell_type": "code",
   "execution_count": 23,
   "id": "0bc74c6d",
   "metadata": {},
   "outputs": [
    {
     "name": "stdout",
     "output_type": "stream",
     "text": [
      "['date', 'apple', 'banana', 'cherry', 'elderberry']\n"
     ]
    }
   ],
   "source": [
    "sort_by_length = lambda lst: sorted(lst, key=lambda x: len(x))\n",
    "\n",
    "#lambda function to sort a list of strings based on their length:\n",
    "\n",
    "strings = [\"apple\", \"banana\", \"cherry\", \"date\", \"elderberry\"]\n",
    "result = sort_by_length(strings)\n",
    "print(result) \n"
   ]
  },
  {
   "cell_type": "markdown",
   "id": "75806c43",
   "metadata": {},
   "source": [
    "10. Create a lambda function that takes two lists as input and returns a new list containing the\n",
    "common elements between the two lists."
   ]
  },
  {
   "cell_type": "code",
   "execution_count": 24,
   "id": "36004571",
   "metadata": {},
   "outputs": [
    {
     "name": "stdout",
     "output_type": "stream",
     "text": [
      "[3, 4, 5]\n"
     ]
    }
   ],
   "source": [
    "find_common_elements = lambda list1, list2: list(filter(lambda x: x in list2, list1))\n",
    "\n",
    "# using lambda function finding the common elements:\n",
    "list1 = [1, 2, 3, 4, 5]\n",
    "list2 = [3, 4, 5, 6, 7]\n",
    "result = find_common_elements(list1, list2)\n",
    "print(result) \n"
   ]
  },
  {
   "cell_type": "markdown",
   "id": "cdbf9257",
   "metadata": {},
   "source": [
    "In this example, the lambda function find_common_elements takes two lists list1 and list2 as arguments. It uses the filter function with a lambda inside it to filter out only the elements from list1 that are also present in list2, resulting in a list of common elements."
   ]
  },
  {
   "cell_type": "markdown",
   "id": "06ebda77",
   "metadata": {},
   "source": [
    "11. Write a recursive function to calculate the factorial of a given positive integer."
   ]
  },
  {
   "cell_type": "code",
   "execution_count": 25,
   "id": "1d1a9dd2",
   "metadata": {},
   "outputs": [
    {
     "name": "stdout",
     "output_type": "stream",
     "text": [
      "The factorial of 5 is 120\n"
     ]
    }
   ],
   "source": [
    "# Here's a recursive function in Python to calculate the factorial of a given positive integer:\n",
    "\n",
    "def factorial(n):\n",
    "    if n == 0 or n == 1:\n",
    "        return 1\n",
    "    else:\n",
    "        return n * factorial(n - 1)\n",
    "\n",
    "# we can use this recursive function to calculate the factorial of a positive integer:\n",
    "\n",
    "number = 5\n",
    "result = factorial(number)\n",
    "print(f\"The factorial of {number} is {result}\")  \n",
    "\n",
    "# In this recursive function, the base case is when n is 0 or 1, in which case the factorial is defined to be 1. \n",
    "# For any other positive integer n, the factorial is calculated by multiplying n with the factorial of (n - 1). \n",
    "# This process continues until the base case is reached.\n"
   ]
  },
  {
   "cell_type": "markdown",
   "id": "04d9e872",
   "metadata": {},
   "source": [
    "12. Implement a recursive function to compute the nth Fibonacci number."
   ]
  },
  {
   "cell_type": "code",
   "execution_count": 28,
   "id": "f672d4ca",
   "metadata": {},
   "outputs": [
    {
     "name": "stdout",
     "output_type": "stream",
     "text": [
      "The 6th Fibonacci number is 8\n"
     ]
    }
   ],
   "source": [
    "# Here's a recursive function in Python to compute the nth Fibonacci number:\n",
    "\n",
    "def fibonacci(n):\n",
    "    if n <= 0:\n",
    "        return 0\n",
    "    elif n == 1:\n",
    "        return 1\n",
    "    else:\n",
    "        return fibonacci(n - 1) + fibonacci(n - 2)\n",
    "    \n",
    "# This recursive function to compute the nth Fibonacci number:\n",
    "n = 6\n",
    "result = fibonacci(n)\n",
    "print(f\"The {n}th Fibonacci number is {result}\") \n",
    "\n",
    "\n"
   ]
  },
  {
   "cell_type": "markdown",
   "id": "2d8c2c5a",
   "metadata": {},
   "source": [
    "In this recursive function, the base cases are when n is 0 or 1, in which case the Fibonacci number is defined to be 0 or 1, respectively. For n greater than 1, the Fibonacci number is calculated by adding the previous two Fibonacci numbers (computed recursively). This recursive process continues until the base cases are reached. It's important to note that the recursive approach can become inefficient for large n due to redundant calculations."
   ]
  },
  {
   "cell_type": "markdown",
   "id": "eec43952",
   "metadata": {},
   "source": [
    "13. Create a recursive function to find the sum of all the elements in a given list."
   ]
  },
  {
   "cell_type": "code",
   "execution_count": 29,
   "id": "02a2e22c",
   "metadata": {},
   "outputs": [
    {
     "name": "stdout",
     "output_type": "stream",
     "text": [
      "The sum of the elements is 15\n"
     ]
    }
   ],
   "source": [
    "# Here's a recursive function in Python to find the sum of all the elements in a given list:\n",
    "\n",
    "def recursive_sum(lst):\n",
    "    if not lst:\n",
    "        return 0\n",
    "    else:\n",
    "        return lst[0] + recursive_sum(lst[1:])\n",
    "    \n",
    "numbers = [1, 2, 3, 4, 5]\n",
    "result = recursive_sum(numbers)\n",
    "print(f\"The sum of the elements is {result}\")\n"
   ]
  },
  {
   "cell_type": "markdown",
   "id": "35300274",
   "metadata": {},
   "source": [
    "In this recursive function, the base case is when the list is empty, in which case the sum is defined to be 0. For non-empty lists, the sum is calculated by adding the first element to the sum of the rest of the elements (computed recursively). This process continues until the base case is reached. Similar to other recursive approaches, keep in mind that efficiency might become an issue for very large lists."
   ]
  },
  {
   "cell_type": "markdown",
   "id": "9ec00625",
   "metadata": {},
   "source": [
    "14. Write a recursive function to determine whether a given string is a palindrome."
   ]
  },
  {
   "cell_type": "code",
   "execution_count": 30,
   "id": "a0977afe",
   "metadata": {},
   "outputs": [
    {
     "name": "stdout",
     "output_type": "stream",
     "text": [
      "True\n",
      "False\n"
     ]
    }
   ],
   "source": [
    "# Here's a recursive function in Python to determine whether a given string is a palindrome:\n",
    "\n",
    "def is_palindrome(s):\n",
    "    s = s.lower()  # Convert the string to lowercase for case-insensitive comparison\n",
    "    if len(s) <= 1:\n",
    "        return True\n",
    "    else:\n",
    "        if s[0] == s[-1]:\n",
    "            return is_palindrome(s[1:-1])\n",
    "        else:\n",
    "            return False\n",
    "# Using this recursive function to check if a given string is a palindrome:\n",
    "\n",
    "string1 = \"radar\"\n",
    "string2 = \"hello\"\n",
    "\n",
    "print(is_palindrome(string1))  \n",
    "print(is_palindrome(string2))  \n"
   ]
  },
  {
   "cell_type": "markdown",
   "id": "19a3a18f",
   "metadata": {},
   "source": [
    "In this recursive function, the base case is when the length of the string is 0 or 1, in which case it's considered a palindrome. For longer strings, the function checks if the first and last characters are the same. If they are, the function is recursively called with the string excluding those characters. If they aren't the same, the function returns False. This process continues until the base case is reached or a non-palindrome condition is found."
   ]
  },
  {
   "cell_type": "markdown",
   "id": "e4a37e2e",
   "metadata": {},
   "source": [
    "15. Implement a recursive function to find the greatest common divisor (GCD) of two positive integers."
   ]
  },
  {
   "cell_type": "markdown",
   "id": "92ace849",
   "metadata": {},
   "source": [
    " Here's a recursive function in Python to find the greatest common divisor (GCD) of two positive integers using the Euclidean algorithm:"
   ]
  },
  {
   "cell_type": "code",
   "execution_count": 31,
   "id": "5141a399",
   "metadata": {},
   "outputs": [
    {
     "name": "stdout",
     "output_type": "stream",
     "text": [
      "The GCD of 48 and 18 is 6\n"
     ]
    }
   ],
   "source": [
    "def gcd(a, b):\n",
    "    if b == 0:\n",
    "        return a\n",
    "    else:\n",
    "        return gcd(b, a % b)\n",
    "\n",
    "#Using this recursive function to find the GCD of two positive integers:\n",
    "\n",
    "num1 = 48\n",
    "num2 = 18\n",
    "result = gcd(num1, num2)\n",
    "print(f\"The GCD of {num1} and {num2} is {result}\")  \n",
    "\n"
   ]
  },
  {
   "cell_type": "markdown",
   "id": "f03190fb",
   "metadata": {},
   "source": [
    "In this recursive function, the base case is when b (the remainder) becomes 0, at which point the GCD is found and returned as a. Otherwise, the function recursively calls itself with b and the remainder of a divided by b. This process continues until the base case is reached, which effectively implements the Euclidean algorithm to find the GCD.\n",
    "\n",
    "\n",
    "\n",
    "\n",
    "\n"
   ]
  },
  {
   "cell_type": "code",
   "execution_count": null,
   "id": "a8f6c1c4",
   "metadata": {},
   "outputs": [],
   "source": []
  },
  {
   "cell_type": "code",
   "execution_count": null,
   "id": "ad1f33f6",
   "metadata": {},
   "outputs": [],
   "source": []
  }
 ],
 "metadata": {
  "kernelspec": {
   "display_name": "Python 3 (ipykernel)",
   "language": "python",
   "name": "python3"
  },
  "language_info": {
   "codemirror_mode": {
    "name": "ipython",
    "version": 3
   },
   "file_extension": ".py",
   "mimetype": "text/x-python",
   "name": "python",
   "nbconvert_exporter": "python",
   "pygments_lexer": "ipython3",
   "version": "3.10.9"
  }
 },
 "nbformat": 4,
 "nbformat_minor": 5
}
