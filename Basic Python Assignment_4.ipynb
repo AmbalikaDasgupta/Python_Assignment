{
 "cells": [
  {
   "cell_type": "markdown",
   "id": "13d28d5d",
   "metadata": {},
   "source": [
    "1) What exactly is []?"
   ]
  },
  {
   "cell_type": "markdown",
   "id": "8cd9b04e",
   "metadata": {},
   "source": [
    "The expression \"[]\" typically represents an empty list in many programming languages, including Python. A list is a data structure that allows us to store a collection of elements in a specific order. An empty list is a list that contains no elements.\n",
    "\n",
    "In Python, we can create an empty list using the square brackets notation \"[]\", like this:\n",
    "\n",
    "my_list=[]"
   ]
  },
  {
   "cell_type": "markdown",
   "id": "ae70b27b",
   "metadata": {},
   "source": [
    "2. In a list of values stored in a variable called spam, how would you assign the value &#39;hello&#39; as the\n",
    "third value? (Assume [2, 4, 6, 8, 10] are in spam.)"
   ]
  },
  {
   "cell_type": "code",
   "execution_count": 1,
   "id": "5005e0c4",
   "metadata": {},
   "outputs": [],
   "source": [
    "spam=[2,4,6,8,10]"
   ]
  },
  {
   "cell_type": "code",
   "execution_count": 2,
   "id": "e59b7cce",
   "metadata": {},
   "outputs": [],
   "source": [
    "spam[2]=\"hello\""
   ]
  },
  {
   "cell_type": "code",
   "execution_count": 4,
   "id": "e2e25ff6",
   "metadata": {},
   "outputs": [
    {
     "data": {
      "text/plain": [
       "[2, 4, 'hello', 8, 10]"
      ]
     },
     "execution_count": 4,
     "metadata": {},
     "output_type": "execute_result"
    }
   ],
   "source": [
    "spam"
   ]
  },
  {
   "cell_type": "markdown",
   "id": "63cd8484",
   "metadata": {},
   "source": [
    " Let's pretend the spam includes the list ['a','b','c','d'] for the next three queries."
   ]
  },
  {
   "cell_type": "markdown",
   "id": "4ca7f80b",
   "metadata": {},
   "source": [
    "3. What is the value of spam [int(int('3' * 2) / 11)]?"
   ]
  },
  {
   "cell_type": "code",
   "execution_count": 5,
   "id": "15ed3ac9",
   "metadata": {},
   "outputs": [],
   "source": [
    "spam=['a','b','c','d']"
   ]
  },
  {
   "cell_type": "code",
   "execution_count": 6,
   "id": "816b5632",
   "metadata": {},
   "outputs": [
    {
     "data": {
      "text/plain": [
       "'d'"
      ]
     },
     "execution_count": 6,
     "metadata": {},
     "output_type": "execute_result"
    }
   ],
   "source": [
    "spam [int(int('3' * 2) / 11)] # here we are indexing operation"
   ]
  },
  {
   "cell_type": "code",
   "execution_count": 11,
   "id": "e658dfcc",
   "metadata": {},
   "outputs": [
    {
     "data": {
      "text/plain": [
       "3"
      ]
     },
     "execution_count": 11,
     "metadata": {},
     "output_type": "execute_result"
    }
   ],
   "source": [
    "int(int('3' * 2)/11)"
   ]
  },
  {
   "cell_type": "code",
   "execution_count": 13,
   "id": "538e5763",
   "metadata": {},
   "outputs": [
    {
     "data": {
      "text/plain": [
       "'d'"
      ]
     },
     "execution_count": 13,
     "metadata": {},
     "output_type": "execute_result"
    }
   ],
   "source": [
    "spam[3]"
   ]
  },
  {
   "cell_type": "markdown",
   "id": "f812314a",
   "metadata": {},
   "source": [
    "4. What is the value of spam[-1]?"
   ]
  },
  {
   "cell_type": "code",
   "execution_count": 14,
   "id": "5283bb12",
   "metadata": {},
   "outputs": [],
   "source": [
    "spam=['a','b','c','d']"
   ]
  },
  {
   "cell_type": "code",
   "execution_count": 15,
   "id": "7f020325",
   "metadata": {},
   "outputs": [
    {
     "data": {
      "text/plain": [
       "'d'"
      ]
     },
     "execution_count": 15,
     "metadata": {},
     "output_type": "execute_result"
    }
   ],
   "source": [
    "spam[-1]"
   ]
  },
  {
   "cell_type": "markdown",
   "id": "26b8bca9",
   "metadata": {},
   "source": [
    "5. What is the value of spam[:2]?"
   ]
  },
  {
   "cell_type": "code",
   "execution_count": 17,
   "id": "84c8725d",
   "metadata": {},
   "outputs": [],
   "source": [
    "spam=['a','b','c','d']"
   ]
  },
  {
   "cell_type": "code",
   "execution_count": 19,
   "id": "961a20e5",
   "metadata": {},
   "outputs": [
    {
     "data": {
      "text/plain": [
       "['a', 'b']"
      ]
     },
     "execution_count": 19,
     "metadata": {},
     "output_type": "execute_result"
    }
   ],
   "source": [
    "spam[:2]"
   ]
  },
  {
   "cell_type": "markdown",
   "id": "f0844ab6",
   "metadata": {},
   "source": [
    "Let's pretend bacon has the list [3.14,\"cat\", 11, \"cat\" True] for the next three questions."
   ]
  },
  {
   "cell_type": "markdown",
   "id": "2b391e74",
   "metadata": {},
   "source": [
    "6. What is the value of bacon.index(&#39;cat&#39;)?"
   ]
  },
  {
   "cell_type": "code",
   "execution_count": 26,
   "id": "9f18a7ee",
   "metadata": {},
   "outputs": [],
   "source": [
    "bacon=[3.14,\"cat\", 11, \"cat\", True]"
   ]
  },
  {
   "cell_type": "code",
   "execution_count": 27,
   "id": "acf65f76",
   "metadata": {},
   "outputs": [
    {
     "data": {
      "text/plain": [
       "1"
      ]
     },
     "execution_count": 27,
     "metadata": {},
     "output_type": "execute_result"
    }
   ],
   "source": [
    "bacon.index('cat') #Return first index of value. "
   ]
  },
  {
   "cell_type": "markdown",
   "id": "dfdb92b6",
   "metadata": {},
   "source": [
    "7. How does bacon.append(99) change the look of the list value in bacon?"
   ]
  },
  {
   "cell_type": "code",
   "execution_count": 30,
   "id": "0be8f7b9",
   "metadata": {},
   "outputs": [
    {
     "data": {
      "text/plain": [
       "[3.14, 'cat', 11, 'cat', True, 99, 99, 99]"
      ]
     },
     "execution_count": 30,
     "metadata": {},
     "output_type": "execute_result"
    }
   ],
   "source": [
    "bacon.append(99)# adding 99 in the existing list\n",
    "\n",
    "bacon"
   ]
  },
  {
   "cell_type": "markdown",
   "id": "1917e435",
   "metadata": {},
   "source": [
    "8. How does bacon.remove(\"cat\") change the look of the list in bacon?"
   ]
  },
  {
   "cell_type": "code",
   "execution_count": 32,
   "id": "7eeef8ab",
   "metadata": {},
   "outputs": [],
   "source": [
    "bacon.remove(\"cat\")#Remove first occurrence of value\n"
   ]
  },
  {
   "cell_type": "code",
   "execution_count": 34,
   "id": "97fb4a84",
   "metadata": {},
   "outputs": [
    {
     "data": {
      "text/plain": [
       "[3.14, 11, 'cat', True, 99, 99, 99]"
      ]
     },
     "execution_count": 34,
     "metadata": {},
     "output_type": "execute_result"
    }
   ],
   "source": [
    "bacon"
   ]
  },
  {
   "cell_type": "markdown",
   "id": "1fedd034",
   "metadata": {},
   "source": [
    "9. What are the list concatenation and list replication operators?"
   ]
  },
  {
   "cell_type": "markdown",
   "id": "9af51926",
   "metadata": {},
   "source": [
    "In Python, the list concatenation operator and list replication operator are used to manipulate lists:\n",
    "\n",
    "1) List Concatenation Operator (+):\n",
    "The list concatenation operator (+) is used to combine two or more lists into a single list. It creates a new list containing all the elements from the operands in the order they appear. The original lists remain unchanged.\n",
    "Here's an example of using the list concatenation operator:"
   ]
  },
  {
   "cell_type": "code",
   "execution_count": 35,
   "id": "08106a80",
   "metadata": {},
   "outputs": [
    {
     "name": "stdout",
     "output_type": "stream",
     "text": [
      "[1, 2, 3, 4, 5, 6]\n"
     ]
    }
   ],
   "source": [
    "list1 = [1, 2, 3]\n",
    "list2 = [4, 5, 6]\n",
    "concatenated_list = list1 + list2\n",
    "print(concatenated_list)"
   ]
  },
  {
   "cell_type": "markdown",
   "id": "97ed4c4c",
   "metadata": {},
   "source": [
    "2.List Replication Operator (*):\n",
    "The list replication operator (*) is used to create a new list by repeating the elements of a list a certain number of times. It creates a new list with multiple occurrences of the original elements.\n",
    "Here's an example of using the list replication operator:"
   ]
  },
  {
   "cell_type": "code",
   "execution_count": 38,
   "id": "9f3e4c31",
   "metadata": {},
   "outputs": [
    {
     "name": "stdout",
     "output_type": "stream",
     "text": [
      "[1, 2, 3, 1, 2, 3, 1, 2, 3]\n"
     ]
    }
   ],
   "source": [
    "original_list = [1, 2, 3]\n",
    "replicated_list = original_list * 3\n",
    "print(replicated_list)"
   ]
  },
  {
   "cell_type": "markdown",
   "id": "bfe0d95f",
   "metadata": {},
   "source": [
    "10. What is difference between the list methods append() and insert()?"
   ]
  },
  {
   "cell_type": "markdown",
   "id": "c6918f07",
   "metadata": {},
   "source": [
    "Both append() and insert() are list methods in Python used to add elements to a list, but they differ in how they add elements:\n",
    "\n",
    "1. append():\n",
    "The append() method is used to add an element to the end of a list. It takes a single argument, which is the element we want to add, and appends it to the list, increasing the list's length by one.\n",
    "Here's an example of using append():"
   ]
  },
  {
   "cell_type": "code",
   "execution_count": 39,
   "id": "467568c4",
   "metadata": {},
   "outputs": [
    {
     "name": "stdout",
     "output_type": "stream",
     "text": [
      "[1, 2, 3, 4]\n"
     ]
    }
   ],
   "source": [
    "my_list = [1, 2, 3]\n",
    "my_list.append(4)\n",
    "print(my_list)"
   ]
  },
  {
   "cell_type": "markdown",
   "id": "574a041d",
   "metadata": {},
   "source": [
    "2. insert():\n",
    "The insert() method is used to add an element at a specific index in the list. It takes two arguments: the first argument is the index where we want to insert the element, and the second argument is the element itself.\n",
    "Here's an example of using insert():\n"
   ]
  },
  {
   "cell_type": "code",
   "execution_count": 42,
   "id": "aacdc223",
   "metadata": {},
   "outputs": [
    {
     "name": "stdout",
     "output_type": "stream",
     "text": [
      "[1, 5, 2, 3]\n"
     ]
    }
   ],
   "source": [
    "my_list = [1, 2, 3]\n",
    "my_list.insert(1, 5)  # Inserts 5 at index 1\n",
    "print(my_list)\n"
   ]
  },
  {
   "cell_type": "markdown",
   "id": "68537b7b",
   "metadata": {},
   "source": [
    "11. What are the two methods for removing items from a list?"
   ]
  },
  {
   "cell_type": "markdown",
   "id": "d9878222",
   "metadata": {},
   "source": [
    "In Python, there are two main methods for removing items from a list:\n",
    "\n",
    "1. remove() method:\n",
    "The remove() method is used to remove the first occurrence of a specified element from the list. It takes a single argument, which is the value we want to remove. If the element appears multiple times in the list, only the first occurrence will be removed.\n",
    "Here's an example of using remove():"
   ]
  },
  {
   "cell_type": "code",
   "execution_count": 44,
   "id": "6017ff12",
   "metadata": {},
   "outputs": [
    {
     "name": "stdout",
     "output_type": "stream",
     "text": [
      "[1, 3, 2]\n"
     ]
    }
   ],
   "source": [
    "my_list = [1, 2, 3, 2]\n",
    "my_list.remove(2)\n",
    "print(my_list) \n",
    "\n",
    "#In this example, the first occurrence of the value 2 is removed from the list.\n"
   ]
  },
  {
   "cell_type": "markdown",
   "id": "f2382b8b",
   "metadata": {},
   "source": [
    "2. pop() method:\n",
    "The pop() method is used to remove an element from the list based on its index. It takes an optional argument, which is the index of the element we want to remove. If no index is provided, it will remove and return the last element from the list. If we provide an index, it will remove and return the element at that index.\n",
    "Here's an example of using pop():\n"
   ]
  },
  {
   "cell_type": "code",
   "execution_count": 48,
   "id": "33cc9756",
   "metadata": {},
   "outputs": [
    {
     "name": "stdout",
     "output_type": "stream",
     "text": [
      "[1, 3]\n",
      "2\n"
     ]
    }
   ],
   "source": [
    "my_list = [1, 2, 3]\n",
    "removed_element = my_list.pop(1)  # Removes the element at index 1 (value 2) and returns it\n",
    "print(my_list) \n",
    "print(removed_element)  \n",
    "#In this example, pop(1) removes the element at index 1 (value 2) and returns it, leaving the list with [1, 3].\n"
   ]
  },
  {
   "cell_type": "markdown",
   "id": "5d30c27f",
   "metadata": {},
   "source": [
    "12. Describe how list values and string values are identical."
   ]
  },
  {
   "cell_type": "markdown",
   "id": "e22fa158",
   "metadata": {},
   "source": [
    "\n",
    "List values and string values share some similarities in Python, making them somewhat identical in certain aspects:\n",
    "\n",
    "1.Sequential Data: Both lists and strings are sequential data types. A list is an ordered collection of elements, and a string is an ordered collection of characters. This means that we can access individual elements in both lists and strings using indexing.\n",
    "\n",
    "2.Indexing: Both lists and strings use zero-based indexing. we can access elements in a list or characters in a string by their position in the sequence. For example, my_list[0] will give us the first element in the list, and my_string[1] will give us the second character in the string.\n",
    "\n",
    "3.Slicing: Both lists and strings support slicing. we can extract a portion of a list or a string using slice notation. For example, my_list[1:4] will give us a sublist of elements from index 1 to index 3, and my_string[2:5] will give us a substring from index 2 to index 4.\n",
    "\n",
    "4.Iteration: we can iterate over both lists and strings using loops. For example, use a for loop to iterate through all elements in a list or all characters in a string.\n",
    "\n",
    "5.In Operator: The \"in\" operator works with both lists and strings. It will allows to check if a specific value exists in the list or if a substring exists in the string.\n",
    "\n",
    "Here's an example that demonstrates some of these similarities:"
   ]
  },
  {
   "cell_type": "code",
   "execution_count": 2,
   "id": "6a7bc3ba",
   "metadata": {},
   "outputs": [
    {
     "name": "stdout",
     "output_type": "stream",
     "text": [
      "3\n",
      "[2, 3, 4]\n",
      "True\n",
      "W\n",
      "llo,\n",
      "True\n"
     ]
    }
   ],
   "source": [
    "# List\n",
    "my_list = [1, 2, 3, 4, 5]\n",
    "print(my_list[2])  # Output: 3\n",
    "print(my_list[1:4])  # Output: [2, 3, 4]\n",
    "print(3 in my_list)  # Output: True\n",
    "\n",
    "# String\n",
    "my_string = \"Hello, World!\"\n",
    "print(my_string[7])  # Output: 'W'\n",
    "print(my_string[2:6])  # Output: 'llo,'\n",
    "print(\"World\" in my_string)"
   ]
  },
  {
   "cell_type": "markdown",
   "id": "ea9bb797",
   "metadata": {},
   "source": [
    "13. What's the difference between tuples and lists?"
   ]
  },
  {
   "cell_type": "markdown",
   "id": "c8ac0659",
   "metadata": {},
   "source": [
    "Tuples and lists are two different data structures in Python, and they have some key differences:\n",
    "\n",
    "Mutability:\n",
    "\n",
    "Lists: Lists are mutable, meaning we can modify their elements, add new elements, or remove existing elements after they are created.\n",
    "\n",
    "Tuples: Tuples are immutable, which means their elements cannot be changed or modified after creation. Once a tuple is created, its elements remain fixed.\n",
    "\n",
    "Syntax:\n",
    "\n",
    "Lists: Lists are created using square brackets [], and elements are separated by commas.\n",
    "Tuples: Tuples are created using parentheses (), and elements are separated by commas.\n",
    "\n",
    "Typical Use Cases:\n",
    "\n",
    "Lists: Lists are generally used for collections of items where the order and the ability to modify the elements are important. They are suitable for storing data that might change during the program's execution.\n",
    "\n",
    "Tuples: Tuples are often used to represent a collection of related, immutable items. They are suitable for scenarios where we want to ensure that the data remains unchanged or to represent items that shouldn't be modified.\n",
    "\n",
    "Performance:\n",
    "\n",
    "Lists: Due to their mutability, lists may require more memory and have a slightly slower performance compared to tuples.\n",
    "\n",
    "Tuples: Tuples are more memory-efficient and slightly faster than lists because of their immutability.\n",
    "Here are some examples to illustrate the differences:\n",
    "\n"
   ]
  },
  {
   "cell_type": "code",
   "execution_count": 3,
   "id": "6ca753ce",
   "metadata": {},
   "outputs": [
    {
     "name": "stdout",
     "output_type": "stream",
     "text": [
      "[10, 3, 4]\n",
      "(1, 2, 3)\n"
     ]
    }
   ],
   "source": [
    "# List (mutable)\n",
    "my_list = [1, 2, 3]\n",
    "my_list[0] = 10  # Modify an element\n",
    "my_list.append(4)  # Add a new element\n",
    "del my_list[1]  # Remove an element\n",
    "print(my_list)  # Output: [10, 3, 4]\n",
    "\n",
    "# Tuple (immutable)\n",
    "my_tuple = (1, 2, 3)\n",
    "# my_tuple[0] = 10  # This line will raise an error because tuples are immutable\n",
    "print(my_tuple)  # Output: (1, 2, 3)\n"
   ]
  },
  {
   "cell_type": "markdown",
   "id": "329bb6e3",
   "metadata": {},
   "source": [
    "14. How do you type a tuple value that only contains the integer 42?"
   ]
  },
  {
   "cell_type": "markdown",
   "id": "d425c9c1",
   "metadata": {},
   "source": [
    "In Python, to create a tuple containing only the integer value 42, we can enclose the value in parentheses."
   ]
  },
  {
   "cell_type": "code",
   "execution_count": 10,
   "id": "4269652f",
   "metadata": {},
   "outputs": [
    {
     "data": {
      "text/plain": [
       "tuple"
      ]
     },
     "execution_count": 10,
     "metadata": {},
     "output_type": "execute_result"
    }
   ],
   "source": [
    "my_tuple = (42,)\n",
    "type(my_tuple)"
   ]
  },
  {
   "cell_type": "markdown",
   "id": "a7d3af4e",
   "metadata": {},
   "source": [
    "The comma after the integer 42 is important because it distinguishes a single-item tuple from an integer in parentheses. Without the comma, the parentheses would be interpreted as regular grouping parentheses and not as a tuple"
   ]
  },
  {
   "cell_type": "markdown",
   "id": "6eabb224",
   "metadata": {},
   "source": [
    "15. How do you get a list value's tuple form? How do you get a tuple value's list form?"
   ]
  },
  {
   "cell_type": "code",
   "execution_count": 11,
   "id": "09aefcc8",
   "metadata": {},
   "outputs": [
    {
     "name": "stdout",
     "output_type": "stream",
     "text": [
      "(1, 2, 3, 4)\n"
     ]
    }
   ],
   "source": [
    "my_list = [1, 2, 3, 4]\n",
    "my_tuple = tuple(my_list)\n",
    "print(my_tuple) \n"
   ]
  },
  {
   "cell_type": "code",
   "execution_count": 12,
   "id": "8503fff3",
   "metadata": {},
   "outputs": [
    {
     "name": "stdout",
     "output_type": "stream",
     "text": [
      "[1, 2, 3, 4]\n"
     ]
    }
   ],
   "source": [
    "my_list = list(my_tuple)\n",
    "print(my_list) "
   ]
  },
  {
   "cell_type": "markdown",
   "id": "c9680721",
   "metadata": {},
   "source": [
    "16. Variables that \"contain\" list values are not necessarily lists themselves. Instead, what do they\n",
    "contain?"
   ]
  },
  {
   "cell_type": "markdown",
   "id": "c809c331",
   "metadata": {},
   "source": [
    "Variables that \"contain\" list values in Python are not actually the lists themselves; instead, they contain references to the lists. In Python, variables are used to store references to objects in memory, and lists are objects in Python. When we assign a list to a variable, we are storing the memory address (reference) of the list in that variable."
   ]
  },
  {
   "cell_type": "code",
   "execution_count": 14,
   "id": "1565deb4",
   "metadata": {},
   "outputs": [
    {
     "name": "stdout",
     "output_type": "stream",
     "text": [
      "[1, 2, 3]\n"
     ]
    }
   ],
   "source": [
    "# Creating a list and assigning it to the variable 'my_list'\n",
    "my_list = [1, 2, 3]\n",
    "\n",
    "# The variable 'my_list' contains a reference to the list in memory\n",
    "print(my_list) "
   ]
  },
  {
   "cell_type": "markdown",
   "id": "a0e0a5b1",
   "metadata": {},
   "source": [
    "17. How do you distinguish between copy.copy() and copy.deepcopy()?"
   ]
  },
  {
   "cell_type": "markdown",
   "id": "bc47d9b0",
   "metadata": {},
   "source": [
    "In Python's copy module, both copy.copy() and copy.deepcopy() are used to create copies of objects, but they differ in their behavior and the level of copying they perform:\n",
    "\n",
    "copy.copy():\n",
    "The copy.copy() function creates a shallow copy of an object.\n",
    "Shallow copy means that it creates a new object but does not create new copies of the nested objects inside the original object.\n",
    "Instead, it copies references to the nested objects, so changes made to the nested objects in the copy will affect the original, and vice versa.\n",
    "copy.copy() is suitable for simple objects that don't have nested structures, or when we want to create a copy with shared references to the nested objects.\n",
    "\n",
    "\n",
    "copy.deepcopy():\n",
    "The copy.deepcopy() function creates a deep copy of an object.\n",
    "Deep copy means that it creates new copies of all nested objects inside the original object, recursively.\n",
    "As a result, changes made to the nested objects in the deep copy won't affect the original or any other copies, and vice versa.\n",
    "copy.deepcopy() is suitable when we want to completely separate the copied object from the original, especially when the original object contains nested structures.\n"
   ]
  }
 ],
 "metadata": {
  "kernelspec": {
   "display_name": "Python 3 (ipykernel)",
   "language": "python",
   "name": "python3"
  },
  "language_info": {
   "codemirror_mode": {
    "name": "ipython",
    "version": 3
   },
   "file_extension": ".py",
   "mimetype": "text/x-python",
   "name": "python",
   "nbconvert_exporter": "python",
   "pygments_lexer": "ipython3",
   "version": "3.10.9"
  }
 },
 "nbformat": 4,
 "nbformat_minor": 5
}
