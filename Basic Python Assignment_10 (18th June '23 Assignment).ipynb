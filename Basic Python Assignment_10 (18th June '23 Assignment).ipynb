{
 "cells": [
  {
   "cell_type": "markdown",
   "id": "42020964",
   "metadata": {},
   "source": [
    "1. What is the role of the 'else' block in a try-except statement? Provide an example\n",
    "scenario where it would be useful."
   ]
  },
  {
   "cell_type": "markdown",
   "id": "e83bd36d",
   "metadata": {},
   "source": [
    "The else block in a try-except statement is executed if no exceptions occur within the try block. It allows us to specify code that should run when the try block's code executes successfully without any exceptions being raised. "
   ]
  },
  {
   "cell_type": "code",
   "execution_count": 1,
   "id": "653a9761",
   "metadata": {},
   "outputs": [
    {
     "name": "stdout",
     "output_type": "stream",
     "text": [
      "The file does not exist.\n"
     ]
    }
   ],
   "source": [
    "# Example:\n",
    "\n",
    "try:\n",
    "    file = open(\"example.txt\", \"r\")\n",
    "except FileNotFoundError:\n",
    "    print(\"The file does not exist.\")\n",
    "else:\n",
    "    content = file.read()\n",
    "    file.close()\n",
    "    print(\"File content:\", content)\n"
   ]
  },
  {
   "cell_type": "markdown",
   "id": "cb4748bb",
   "metadata": {},
   "source": [
    "In this example, the try block attempts to open and read a file named \"example.txt\". If the file is not found, a FileNotFoundError is caught in the except block. However, if the file is successfully opened and read, the else block is executed, displaying the content of the file. This helps differentiate between the file not existing (an exception) and successfully reading and displaying its content."
   ]
  },
  {
   "cell_type": "markdown",
   "id": "4d60b25a",
   "metadata": {},
   "source": [
    "2. Can a try-except block be nested inside another try-except block? Explain with an\n",
    "example."
   ]
  },
  {
   "cell_type": "markdown",
   "id": "10192f8d",
   "metadata": {},
   "source": [
    "A try-except block can be nested inside another try-except block. This is called \"nested exception handling.\" It allows us to handle different levels of exceptions in a more fine-grained manner. Each nested try-except block can catch specific exceptions that might occur within its scope."
   ]
  },
  {
   "cell_type": "code",
   "execution_count": 4,
   "id": "f0dcb0b5",
   "metadata": {},
   "outputs": [
    {
     "name": "stdout",
     "output_type": "stream",
     "text": [
      "Enter a numerator: 20\n",
      "Enter a denominator: 0\n",
      "Denominator cannot be zero.\n"
     ]
    }
   ],
   "source": [
    "#Example: \n",
    "\n",
    "try:\n",
    "    numerator = int(input(\"Enter a numerator: \"))\n",
    "    denominator = int(input(\"Enter a denominator: \"))\n",
    "    \n",
    "    try:\n",
    "        result = numerator / denominator\n",
    "    except ZeroDivisionError:\n",
    "        print(\"Denominator cannot be zero.\")\n",
    "    else:\n",
    "        print(\"Division result:\", result)\n",
    "        \n",
    "except ValueError:\n",
    "    print(\"Invalid input. Please enter valid integers.\")\n"
   ]
  },
  {
   "cell_type": "markdown",
   "id": "91500689",
   "metadata": {},
   "source": [
    "In this example, the outer try block takes input for both the numerator and denominator. If the user inputs non-integer values, a ValueError is caught and handled in the outer except block.\n",
    "\n",
    "Inside the outer try block, there's a nested try block where the actual division operation takes place. If the denominator is zero, a ZeroDivisionError is caught and handled in the inner except block. If the division is successful, the division result is printed in the inner else block.\n",
    "\n",
    "By nesting the exception handling in this way, we can handle different types of errors at different levels of the program's execution. This improves code clarity and makes it easier to manage different error scenarios."
   ]
  },
  {
   "cell_type": "markdown",
   "id": "30d3073c",
   "metadata": {},
   "source": [
    "3. How can you create a custom exception class in Python? Provide an example that\n",
    "demonstrates its usage."
   ]
  },
  {
   "cell_type": "markdown",
   "id": "8023a17b",
   "metadata": {},
   "source": [
    "we can create a custom exception class in Python by creating a new class that inherits from the built-in Exception class or one of its subclasses. This allows us to define own exception with specific behavior and attributes."
   ]
  },
  {
   "cell_type": "code",
   "execution_count": 5,
   "id": "855f5ec2",
   "metadata": {},
   "outputs": [
    {
     "name": "stdout",
     "output_type": "stream",
     "text": [
      "Custom error: Division by zero is not allowed.\n"
     ]
    }
   ],
   "source": [
    "# Example:\n",
    "\n",
    "class CustomError(Exception):\n",
    "    def __init__(self, message):\n",
    "        self.message = message\n",
    "        super().__init__(self.message)\n",
    "\n",
    "def divide(a, b):\n",
    "    if b == 0:\n",
    "        raise CustomError(\"Division by zero is not allowed.\")\n",
    "    return a / b\n",
    "\n",
    "# Example usage\n",
    "try:\n",
    "    result = divide(10, 0)\n",
    "except CustomError as ce:\n",
    "    print(\"Custom error:\", ce)\n",
    "else:\n",
    "    print(\"Result:\", result)\n"
   ]
  },
  {
   "cell_type": "markdown",
   "id": "6b4c6e22",
   "metadata": {},
   "source": [
    "In this example, a custom exception class named CustomError is defined by inheriting from the base Exception class. The constructor (__init__) of the custom exception class accepts an error message as an argument and sets it as an attribute.\n",
    "\n",
    "The divide function uses the custom exception by raising it when attempting to divide by zero. If the division is successful, the result is returned. In the try block, the division is attempted, and if a CustomError is raised, it is caught in the except block, and the error message is printed. If no exception occurs, the division result is printed in the else block.\n"
   ]
  },
  {
   "cell_type": "markdown",
   "id": "d2bb1ab5",
   "metadata": {},
   "source": [
    "4. What are some common exceptions that are built-in to Python?"
   ]
  },
  {
   "cell_type": "markdown",
   "id": "4c734fc8",
   "metadata": {},
   "source": [
    "Python provides a wide range of built-in exceptions to handle various types of errors that might occur during program execution. Some common built-in exceptions include:\n",
    "\n",
    "1.SyntaxError: Raised when there is a syntax error in the code.\n",
    "    \n",
    "2.IndentationError: Raised when there's an issue with the indentation of code.\n",
    "    \n",
    "3.NameError: Raised when a local or global name is not found.\n",
    "    \n",
    "4.TypeError: Raised when an operation or function is applied to an object of an inappropriate type.\n",
    "    \n",
    "5.ValueError: Raised when a function receives an argument of the correct type but an inappropriate value.\n",
    "    \n",
    "6.KeyError: Raised when a dictionary key is not found.\n",
    "    \n",
    "7.IndexError: Raised when a list or sequence index is out of range.\n",
    "    \n",
    "8.FileNotFoundError: Raised when a file is not found during file operations.\n",
    "    \n",
    "9.IOError: Raised for general I/O errors.\n",
    "    \n",
    "10.ZeroDivisionError: Raised when attempting to divide by zero.\n",
    "    \n",
    "11.AttributeError: Raised when an attribute reference or assignment fails.\n",
    "    \n",
    "12.ImportError: Raised when an import statement fails.\n",
    "    \n",
    "13.RuntimeError: Raised when a generic runtime error occurs.\n",
    "    \n",
    "14.AssertionError: Raised when an assert statement fails.\n",
    "    \n",
    "15.KeyboardInterrupt: Raised when the user interrupts the program, typically by pressing Ctrl+C.\n",
    "    \n",
    "16.OverflowError: Raised when an arithmetic operation exceeds the limits of the data type.\n",
    "    \n",
    "17.MemoryError: Raised when an operation runs out of memory."
   ]
  },
  {
   "cell_type": "markdown",
   "id": "70de3239",
   "metadata": {},
   "source": [
    "5. What is logging in Python, and why is it important in software development?"
   ]
  },
  {
   "cell_type": "markdown",
   "id": "02d0b3a2",
   "metadata": {},
   "source": [
    "\n",
    "Logging in Python refers to the process of recording events, messages, and information about a program's execution to a designated log output, such as a file, console, or external logging service. The logging module in Python provides a flexible and standardized way to manage and output log messages.\n",
    "\n",
    "Importance of logging in software development:\n",
    "\n",
    "1. Debugging and Troubleshooting: Logging helps developers identify errors and issues in the code by providing a detailed record of events leading up to a problem. It allows developers to trace the flow of execution and understand the context of errors.\n",
    "\n",
    "2. Error Handling: When exceptions or errors occur, logging allows developers to capture relevant information, including error messages, stack traces, and variable values. This information aids in diagnosing and addressing errors effectively.\n",
    "\n",
    "3. Monitoring and Maintenance: In production environments, logging helps monitor the health and behavior of applications. It provides insights into system performance, resource utilization, and user interactions, making it easier to detect anomalies and respond proactively.\n",
    "\n",
    "4. Auditing and Compliance: For applications that handle sensitive data or need to adhere to specific regulations, logging can serve as an audit trail, recording user actions and system events for compliance purposes.\n",
    "\n",
    "5. Long-term Analysis: Logs can be used for analyzing trends, patterns, and usage over time. This data can guide decisions related to optimizations, feature enhancements, and user behavior.\n",
    "\n",
    "6. Collaboration: When working in a team, logs can facilitate communication by allowing team members to share detailed information about specific scenarios or issues.\n",
    "\n",
    "7. Release and Deployment: Logging helps assess the stability of a new release by tracking its performance and uncovering potential issues before they become critical.\n",
    "\n",
    "The logging module in Python offers different log levels (e.g., DEBUG, INFO, WARNING, ERROR, CRITICAL), customizable formatting, and the ability to direct log output to various destinations. Using a consistent and well-structured logging strategy enhances software quality, maintenance, and overall reliability."
   ]
  },
  {
   "cell_type": "markdown",
   "id": "2a81ea7e",
   "metadata": {},
   "source": [
    "6. Explain the purpose of log levels in Python logging and provide examples of when\n",
    "each log level would be appropriate."
   ]
  },
  {
   "cell_type": "markdown",
   "id": "d5c6a6e0",
   "metadata": {},
   "source": [
    "Log levels in Python logging are used to categorize and prioritize log messages based on their severity and importance. Each log level corresponds to a specific level of severity, allowing developers to control which types of messages are recorded and displayed. The logging module in Python provides several predefined log levels:\n",
    "\n",
    "1. DEBUG: The lowest log level. Used for detailed information useful for debugging. These messages are typically only relevant during development and should be disabled in production to avoid cluttering logs with excessive detail.\n",
    "\n",
    "2. INFO: Used to provide information about the general flow of the application. These messages can be useful for monitoring and understanding the program's behavior.\n",
    "\n",
    "3. WARNING: Used to indicate potential issues that don't necessarily lead to an error but should be noted. For example, deprecated functions or suboptimal configurations.\n",
    "\n",
    "4. ERROR: Used to report errors that cause a certain part of the application to fail or behave incorrectly, but the application can continue running.\n",
    "\n",
    "5. CRITICAL: The highest log level. Used to indicate severe errors or failures that are critical to the application's operation. These errors often lead to the application's termination."
   ]
  },
  {
   "cell_type": "code",
   "execution_count": 7,
   "id": "22a79275",
   "metadata": {},
   "outputs": [
    {
     "name": "stderr",
     "output_type": "stream",
     "text": [
      "WARNING:root:Disk space is running low.\n",
      "ERROR:root:Error occurred during division.\n",
      "CRITICAL:root:Critical error: Database connection failed.\n"
     ]
    }
   ],
   "source": [
    "# Debug\n",
    "import logging\n",
    "logging.debug(\"This is a debug message.\")\n",
    "\n",
    "# Info\n",
    "import logging\n",
    "logging.info(\"Application started.\")\n",
    "\n",
    "#Warning\n",
    "import logging\n",
    "logging.warning(\"Disk space is running low.\")\n",
    "\n",
    "#Error\n",
    "import logging\n",
    "try:\n",
    "    result = 10 / 0\n",
    "except ZeroDivisionError:\n",
    "    logging.error(\"Error occurred during division.\")\n",
    "\n",
    "#Cretical\n",
    "import logging\n",
    "logging.critical(\"Critical error: Database connection failed.\")\n",
    "\n",
    "\n"
   ]
  },
  {
   "cell_type": "markdown",
   "id": "49caae5d",
   "metadata": {},
   "source": [
    "Proper use of log levels helps maintain clean and informative log output. During development, lower log levels like DEBUG and INFO are useful to understand the program's flow and behavior. In production, higher log levels like WARNING, ERROR, and CRITICAL help identify issues and potential points of failure. By controlling the log level configuration, developers can ensure that only relevant information is captured, making it easier to diagnose and troubleshoot issues effectively."
   ]
  },
  {
   "cell_type": "markdown",
   "id": "6f77eef6",
   "metadata": {},
   "source": [
    "7. What are log formatters in Python logging, and how can you customise the log\n",
    "message format using formatters?"
   ]
  },
  {
   "cell_type": "markdown",
   "id": "ecbd7754",
   "metadata": {},
   "source": [
    "Log formatters in Python logging are used to define the structure and content of log messages. They allow to control how the information in a log message is presented in the log output. Formatters provide a way to format timestamps, log levels, messages, and other relevant details consistently across log entries.\n",
    "\n",
    "To customize the log message format using formatters, we need to create a formatter instance and associate it with the logger handler that outputs the log messages. Here's how we can achieve this:"
   ]
  },
  {
   "cell_type": "code",
   "execution_count": 8,
   "id": "0be5b669",
   "metadata": {},
   "outputs": [
    {
     "name": "stderr",
     "output_type": "stream",
     "text": [
      "2023-08-27 23:44:29,241 - DEBUG - This is a debug message.\n",
      "DEBUG:my_logger:This is a debug message.\n",
      "2023-08-27 23:44:29,241 - INFO - This is an info message.\n",
      "INFO:my_logger:This is an info message.\n",
      "2023-08-27 23:44:29,241 - WARNING - This is a warning message.\n",
      "WARNING:my_logger:This is a warning message.\n",
      "2023-08-27 23:44:29,241 - ERROR - This is an error message.\n",
      "ERROR:my_logger:This is an error message.\n",
      "2023-08-27 23:44:29,249 - CRITICAL - This is a critical message.\n",
      "CRITICAL:my_logger:This is a critical message.\n"
     ]
    }
   ],
   "source": [
    "import logging\n",
    "\n",
    "# Create a formatter instance\n",
    "formatter = logging.Formatter('%(asctime)s - %(levelname)s - %(message)s')\n",
    "\n",
    "# Create a logger\n",
    "logger = logging.getLogger('my_logger')\n",
    "logger.setLevel(logging.DEBUG)\n",
    "\n",
    "# Create a console handler and associate the formatter\n",
    "console_handler = logging.StreamHandler()\n",
    "console_handler.setFormatter(formatter)\n",
    "logger.addHandler(console_handler)\n",
    "\n",
    "# Log messages with different log levels\n",
    "logger.debug('This is a debug message.')\n",
    "logger.info('This is an info message.')\n",
    "logger.warning('This is a warning message.')\n",
    "logger.error('This is an error message.')\n",
    "logger.critical('This is a critical message.')\n"
   ]
  },
  {
   "cell_type": "markdown",
   "id": "cfa2af10",
   "metadata": {},
   "source": [
    "In this example, the %() placeholders within the formatter string are replaced by values corresponding to the log record attributes. Here's what the placeholders represent:\n",
    "\n",
    "%(asctime)s: Timestamp when the log record was created.\n",
    "%(levelname)s: Log level (e.g., DEBUG, INFO, WARNING, ERROR, CRITICAL).\n",
    "%(message)s: The actual log message.\n",
    "we can also include other attributes such as %(name)s (logger name) or %(filename)s (name of the source file) in formatter string.\n",
    "\n",
    "By creating custom formatter instances and associating them with different logger handlers (such as console handlers or file handlers), we can control the format of log messages as they are displayed or saved. This helps maintain consistency, readability, and relevance in log output."
   ]
  },
  {
   "cell_type": "markdown",
   "id": "1b877f76",
   "metadata": {},
   "source": [
    "8. How can you set up logging to capture log messages from multiple modules or\n",
    "classes in a Python application?"
   ]
  },
  {
   "cell_type": "markdown",
   "id": "c672bdd8",
   "metadata": {},
   "source": [
    "To set up logging to capture log messages from multiple modules or classes in a Python application, we can follow these steps:\n",
    "\n",
    "Create a Centralized Logging Configuration: It's a good practice to centralize logging configuration in a single module or script. This helps maintain consistency across different parts of application.\n",
    "\n",
    "Import the logging Module: Import the logging module at the beginning of each module or class that will use logging.\n",
    "\n",
    "Configure Logging in Each Module/Class: Configure logging in each module or class to use the centralized configuration. This includes setting the logger name, log level, and associating handlers and formatters.\n",
    "\n"
   ]
  },
  {
   "cell_type": "code",
   "execution_count": 9,
   "id": "e14af05d",
   "metadata": {},
   "outputs": [],
   "source": [
    "# Here's a basic example of how we can achieve this:\n",
    "# centralized_logging.py (Centralized Logging Configuration)\n",
    "\n",
    "import logging\n",
    "\n",
    "# Set up the logging configuration\n",
    "logging.basicConfig(level=logging.DEBUG,\n",
    "                    format='%(asctime)s - %(name)s - %(levelname)s - %(message)s')\n",
    "\n",
    "# Optionally, create a logger for the central configuration\n",
    "logger = logging.getLogger('central_logger')\n"
   ]
  },
  {
   "cell_type": "code",
   "execution_count": null,
   "id": "54609d96",
   "metadata": {},
   "outputs": [],
   "source": [
    "# module1.py\n",
    "\n",
    "import logging\n",
    "from centralized_logging import logger\n",
    "\n",
    "# Get a logger for this module\n",
    "module_logger = logging.getLogger(__name__)\n",
    "\n",
    "def some_function():\n",
    "    module_logger.debug(\"This is a debug message from module1.\")\n"
   ]
  },
  {
   "cell_type": "code",
   "execution_count": null,
   "id": "ad552b31",
   "metadata": {},
   "outputs": [],
   "source": [
    "# module2.py\n",
    "import logging\n",
    "from centralized_logging import logger\n",
    "\n",
    "# Get a logger for this module\n",
    "module_logger = logging.getLogger(__name__)\n",
    "\n",
    "def another_function():\n",
    "    module_logger.info(\"This is an info message from module2.\")"
   ]
  },
  {
   "cell_type": "markdown",
   "id": "722e4316",
   "metadata": {},
   "source": [
    "In this example, the centralized_logging.py script centralizes the logging configuration. Modules module1.py and module2.py import the logging module and set up their own logger instances using the __name__ attribute. These logger instances are configured to use the central logging configuration, ensuring consistent log output.\n",
    "\n",
    "By following this approach, we can capture log messages from multiple modules or classes in Python application while maintaining a single point of control for the logging configuration."
   ]
  },
  {
   "cell_type": "markdown",
   "id": "53a0eb69",
   "metadata": {},
   "source": [
    "9. What is the difference between the logging and print statements in Python? When\n",
    "should you use logging over print statements in a real-world application?"
   ]
  },
  {
   "cell_type": "markdown",
   "id": "a9ddb0b9",
   "metadata": {},
   "source": [
    "Difference between logging and print statements:\n",
    "\n",
    "a. Purpose: Logging is intended for systematically recording events and messages during program execution, while print statements are primarily used for displaying information directly to the console.\n",
    "\n",
    "b. Flexibility: Logging provides different log levels to categorize the severity of messages (e.g., DEBUG, INFO, WARNING, ERROR, CRITICAL), whereas print statements lack this granularity.\n",
    "\n",
    "c. Configurability: Logging allows to configure where and how log messages are displayed (console, file) and set different log levels, whereas print statements are usually hard-coded and lack such configurability.\n",
    "\n",
    "d. Context: Logging is more suitable for larger applications with multiple modules, providing a structured way to manage messages. Print statements don't offer the same context or organization.\n",
    "\n",
    "e. Production Readiness: Logging is better suited for production environments, where we can control message verbosity without changing the code. Print statements might clutter outputs in production.\n",
    "\n",
    "When to use logging over print statements in a real-world application:\n",
    "\n",
    "1. Debugging and Maintenance: Use logging during development and debugging to capture structured information, aiding in identifying and addressing issues.\n",
    "\n",
    "2. Production Environment: Use logging in production to maintain a cleaner and more organized output, allowing to control message levels and destinations.\n",
    "\n",
    "3. Granularity: Logging's log levels help fine-tune the amount of information captured, especially in complex applications.\n",
    "\n",
    "4. Centralized Control: Logging allows for consistent configuration and formatting across different parts of an application.\n",
    "\n",
    "In short, use logging over print statements for structured, categorized, and controlled information capture, especially in production environments and complex applications."
   ]
  },
  {
   "cell_type": "markdown",
   "id": "84c4275b",
   "metadata": {},
   "source": [
    "10. Write a Python program that logs a message to a file named \"app.log\" with the\n",
    "following requirements:\n",
    "● The log message should be \"Hello, World!\"\n",
    "● The log level should be set to \"INFO.\"\n",
    "● The log file should append new log entries without overwriting previous ones."
   ]
  },
  {
   "cell_type": "code",
   "execution_count": 11,
   "id": "10ab364b",
   "metadata": {},
   "outputs": [],
   "source": [
    "import logging\n",
    "\n",
    "# Configure logging to write to a file\n",
    "logging.basicConfig(filename='app.log', level=logging.INFO, format='%(asctime)s - %(levelname)s - %(message)s')\n",
    "\n",
    "# Log the message\n",
    "logging.info(\"Hello, World!\")\n"
   ]
  },
  {
   "cell_type": "markdown",
   "id": "3daea0e3",
   "metadata": {},
   "source": [
    "logging.info(\"Hello, World!\")\n",
    "In this program:\n",
    "\n",
    "logging.basicConfig() sets up the logging configuration.\n",
    "filename='app.log' specifies the log file name.\n",
    "level=logging.INFO sets the log level to \"INFO.\"\n",
    "format='%(asctime)s - %(levelname)s - %(message)s' specifies the log message format, including the timestamp, log level, and message.\n",
    "When we run this program, it will log the message \"Hello, World!\" with an \"INFO\" log level to the \"app.log\" file. Subsequent runs will append new log entries without overwriting previous ones, as requested."
   ]
  },
  {
   "cell_type": "markdown",
   "id": "61941b9f",
   "metadata": {},
   "source": [
    "11. Create a Python program that logs an error message to the console and a file named\n",
    "\"errors.log\" if an exception occurs during the program's execution. The error\n",
    "message should include the exception type and a timestamp."
   ]
  },
  {
   "cell_type": "markdown",
   "id": "7fdd529c",
   "metadata": {},
   "source": [
    "Here is a Python program that logs an error message to both the console and a file named \"errors.log\" if an exception occurs during its execution:\n",
    "\n"
   ]
  },
  {
   "cell_type": "code",
   "execution_count": 12,
   "id": "cbfe93f5",
   "metadata": {},
   "outputs": [
    {
     "name": "stderr",
     "output_type": "stream",
     "text": [
      "ERROR:root:An exception of type ZeroDivisionError occurred: division by zero\n"
     ]
    }
   ],
   "source": [
    "import logging\n",
    "\n",
    "# Configure logging to write to console and file\n",
    "logging.basicConfig(level=logging.ERROR,\n",
    "                    format='%(asctime)s - %(levelname)s - %(message)s',\n",
    "                    handlers=[logging.StreamHandler(), logging.FileHandler('errors.log')])\n",
    "\n",
    "try:\n",
    "    # Code that might raise an exception\n",
    "    result = 10 / 0\n",
    "except Exception as e:\n",
    "    # Log the exception\n",
    "    logging.error(f\"An exception of type {type(e).__name__} occurred: {e}\")\n"
   ]
  },
  {
   "cell_type": "markdown",
   "id": "57a682ef",
   "metadata": {},
   "source": [
    "In this program:\n",
    "\n",
    "logging.basicConfig() sets up the logging configuration.\n",
    "\n",
    "level=logging.ERROR sets the log level to only capture errors and above.\n",
    "\n",
    "format='%(asctime)s - %(levelname)s - %(message)s' specifies the log message format, including the timestamp, log level, and message.\n",
    "\n",
    "handlers=[logging.StreamHandler(), logging.FileHandler('errors.log')] configures two handlers: one for the console and another for the \"errors.log\" file.\n",
    "\n",
    "When an exception occurs (e.g., division by zero), the program captures the exception, logs an error message with the exception type and message, and outputs it to both the console and the \"errors.log\" file with timestamps."
   ]
  },
  {
   "cell_type": "code",
   "execution_count": null,
   "id": "1fdc0adc",
   "metadata": {},
   "outputs": [],
   "source": []
  },
  {
   "cell_type": "code",
   "execution_count": null,
   "id": "0147c9ad",
   "metadata": {},
   "outputs": [],
   "source": []
  }
 ],
 "metadata": {
  "kernelspec": {
   "display_name": "Python 3 (ipykernel)",
   "language": "python",
   "name": "python3"
  },
  "language_info": {
   "codemirror_mode": {
    "name": "ipython",
    "version": 3
   },
   "file_extension": ".py",
   "mimetype": "text/x-python",
   "name": "python",
   "nbconvert_exporter": "python",
   "pygments_lexer": "ipython3",
   "version": "3.10.9"
  }
 },
 "nbformat": 4,
 "nbformat_minor": 5
}
