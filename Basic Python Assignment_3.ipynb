{
 "cells": [
  {
   "cell_type": "markdown",
   "id": "4a1c3deb",
   "metadata": {},
   "source": [
    "1. Why are functions advantageous to have in your programs?"
   ]
  },
  {
   "cell_type": "markdown",
   "id": "2d0663eb",
   "metadata": {},
   "source": [
    "Advantageous:\n",
    "\n",
    "1) Code Reusability: Functions allow to define a block of code once and reuse it multiple times throughout program. Instead of writing the same code in multiple places,we can call the function wherever we need that functionality, reducing redundancy and making code more concise and efficient.\n",
    "\n",
    "2) Modularity: Functions break down a program into smaller, manageable chunks. Each function represents a specific task or operation, making the code easier to understand, organize, and maintain. It also promotes team collaboration as different developers can work on different functions independently.\n",
    "\n",
    "3) Abstraction: Functions provide a level of abstraction, hiding the implementation details from the rest of the program. By calling a function with its name and passing appropriate arguments, we can use its functionality without needing to know how it is implemented internally. This simplifies the overall codebase and makes it easier to work with complex systems.\n",
    "\n",
    "4) Readability: Well-designed functions with meaningful names can make code more readable and self-explanatory. A descriptive function name conveys its purpose.\n",
    "\n",
    "5) Debugging and Testing: Functions enable easier debugging and testing. Since each function performs a specific task, it becomes simpler to isolate and identify bugs or issues within that function.\n",
    "\n",
    "\n",
    "6) Encapsulation: Functions enable us to encapsulate functionality and data within their scope. This means that variables and operations inside a function are generally separate from the rest of the program. It helps in preventing unintended variable modifications and promotes better code organization.\n",
    "\n",
    "In summary, functions are a powerful programming construct that significantly improves the structure, readability, and maintainability of acode. They promote code reuse, modularity, and abstraction, leading to more efficient development and easier collaboration among team members.\n",
    "\n",
    "\n",
    "\n",
    "\n"
   ]
  },
  {
   "cell_type": "markdown",
   "id": "3b30ca62",
   "metadata": {},
   "source": [
    "2. When does the code in a function run: when it&#39;s specified or when it&#39;s called?"
   ]
  },
  {
   "cell_type": "markdown",
   "id": "ed2ef9ed",
   "metadata": {},
   "source": [
    "\n",
    "The code in a function runs when the function is called, not when it's specified."
   ]
  },
  {
   "cell_type": "markdown",
   "id": "1eb3fb68",
   "metadata": {},
   "source": [
    "3. What statement creates a function?"
   ]
  },
  {
   "cell_type": "markdown",
   "id": "7662d56d",
   "metadata": {},
   "source": [
    "In most programming languages, a function is created using the def (short for \"define\") statement. This statement is used to define the name, parameters, and the block of code that constitutes the function. For example, in Python, a function is created using the def statement:"
   ]
  },
  {
   "cell_type": "code",
   "execution_count": 2,
   "id": "2309e8f5",
   "metadata": {},
   "outputs": [
    {
     "name": "stdout",
     "output_type": "stream",
     "text": [
      "This is my first user difine function\n"
     ]
    }
   ],
   "source": [
    "#example:\n",
    "def my_function():\n",
    "    print(\"This is my first user difine function\")\n",
    "my_function()"
   ]
  },
  {
   "cell_type": "markdown",
   "id": "4379932a",
   "metadata": {},
   "source": [
    "4. What is the difference between a function and a function call?"
   ]
  },
  {
   "cell_type": "markdown",
   "id": "8a2fc03a",
   "metadata": {},
   "source": [
    "A function is a block of code that performs a specific task, while a function call is the action of using that function to execute its code with specific arguments and potentially retrieve its result."
   ]
  },
  {
   "cell_type": "code",
   "execution_count": 5,
   "id": "8970ef22",
   "metadata": {},
   "outputs": [
    {
     "name": "stdout",
     "output_type": "stream",
     "text": [
      "8\n"
     ]
    }
   ],
   "source": [
    "# Function definition\n",
    "def add_numbers(a, b):\n",
    "    return a + b\n",
    "\n",
    "# Function call\n",
    "result = add_numbers(5, 3)\n",
    "# The function add_numbers is called with arguments 5 and 3,\n",
    "# and it returns the result 8, which is then assigned to the 'result' variable.\n",
    "print(result)"
   ]
  },
  {
   "cell_type": "markdown",
   "id": "bf6f89e9",
   "metadata": {},
   "source": [
    "5. How many global scopes are there in a Python program? How many local scopes?"
   ]
  },
  {
   "cell_type": "markdown",
   "id": "d4225edc",
   "metadata": {},
   "source": [
    "In a Python program, there is one global scope and multiple local scopes.\n",
    "\n",
    "1) Global Scope: The global scope is the outermost scope in a Python program. Variables defined in this scope are accessible from anywhere in the program, including inside functions. Global variables are typically defined outside of any function."
   ]
  },
  {
   "cell_type": "code",
   "execution_count": 6,
   "id": "3fbf10a5",
   "metadata": {},
   "outputs": [
    {
     "name": "stdout",
     "output_type": "stream",
     "text": [
      "10\n"
     ]
    }
   ],
   "source": [
    "#example:\n",
    "global_var = 10  # This is a global variable\n",
    "\n",
    "def my_function():\n",
    "    print(global_var)  # Accessing the global variable inside the function\n",
    "\n",
    "my_function()  # Output: 10\n"
   ]
  },
  {
   "cell_type": "markdown",
   "id": "d024e565",
   "metadata": {},
   "source": [
    "2) Local Scopes: Local scopes are created whenever a function is called. Variables defined inside a function have a local scope, meaning they are only accessible within that function. Local variables exist only during the function's execution and are destroyed once the function completes.\n"
   ]
  },
  {
   "cell_type": "code",
   "execution_count": 8,
   "id": "6cdc90a9",
   "metadata": {},
   "outputs": [
    {
     "name": "stdout",
     "output_type": "stream",
     "text": [
      "5\n"
     ]
    },
    {
     "ename": "NameError",
     "evalue": "name 'local_var' is not defined",
     "output_type": "error",
     "traceback": [
      "\u001b[1;31m---------------------------------------------------------------------------\u001b[0m",
      "\u001b[1;31mNameError\u001b[0m                                 Traceback (most recent call last)",
      "Cell \u001b[1;32mIn[8], line 8\u001b[0m\n\u001b[0;32m      5\u001b[0m     \u001b[38;5;28mprint\u001b[39m(local_var)\n\u001b[0;32m      7\u001b[0m my_function()  \n\u001b[1;32m----> 8\u001b[0m \u001b[38;5;28mprint\u001b[39m(\u001b[43mlocal_var\u001b[49m)\n",
      "\u001b[1;31mNameError\u001b[0m: name 'local_var' is not defined"
     ]
    }
   ],
   "source": [
    "#example:\n",
    "\n",
    "def my_function():\n",
    "    local_var = 5  # This is a local variable, only accessible within the function\n",
    "    print(local_var)\n",
    "\n",
    "my_function()  # Output: 5\n",
    "\n",
    "print(local_var)  # This will raise an error since local_var is not accessible here\n",
    "\n",
    "\n",
    "\n",
    "#So, there is one global scope throughout the program, and each function call creates its own local scope.\n",
    "\n",
    "\n"
   ]
  },
  {
   "cell_type": "markdown",
   "id": "152cd89e",
   "metadata": {},
   "source": [
    "6. What happens to variables in a local scope when the function call returns?"
   ]
  },
  {
   "cell_type": "markdown",
   "id": "b24ec20e",
   "metadata": {},
   "source": [
    "\n",
    "When a function call returns in Python, the local variables defined within that function's scope are destroyed and their memory is released. This process is known as \"cleaning up\" the local scope.\n",
    "\n",
    "Here's what happens to variables in a local scope when the function call returns:\n",
    "\n",
    "1. Variable Destruction: All local variables that were created during the function's execution are removed from memory. These variables are no longer accessible or usable after the function call has completed.\n",
    "\n",
    "2. Memory Release: The memory allocated to store the local variables is freed up and becomes available for other parts of the program to use. This helps in efficient memory management.\n",
    "\n",
    "3. Returned Values: If the function has a return statement, the returned value (if any) is passed back to the calling code. This allows to capture the function's result in a variable in the calling code."
   ]
  },
  {
   "cell_type": "code",
   "execution_count": 9,
   "id": "6fcf0d66",
   "metadata": {},
   "outputs": [
    {
     "name": "stdout",
     "output_type": "stream",
     "text": [
      "5\n"
     ]
    }
   ],
   "source": [
    "def my_function():\n",
    "    local_var = 5  # This is a local variable, only accessible within the function\n",
    "    return local_var\n",
    "\n",
    "result = my_function()  # The function call returns, and local_var is destroyed\n",
    "\n",
    "print(result)  # Output: 5 (the value returned by the function)\n",
    "\n",
    "# print(local_var)  # This will raise an error since local_var is no longer accessible\n"
   ]
  },
  {
   "cell_type": "markdown",
   "id": "b9cd782f",
   "metadata": {},
   "source": [
    "7. What is the concept of a return value? Is it possible to have a return value in an expression?"
   ]
  },
  {
   "cell_type": "markdown",
   "id": "2023cf3e",
   "metadata": {},
   "source": [
    "The concept of a return value in programming refers to the value that a function gives back to the caller after its execution. When a function is called and completes its task, it can provide a result or value as its output. This value is known as the \"return value.\"\n",
    "\n",
    "The return value allows the function to pass data back to the caller, which can then be used for further processing, assignment to a variable, or as part of an expression.\n",
    "\n",
    "Yes, it is possible to have a return value in an expression. In many programming languages, including Python, the return value of a function directly within an expression."
   ]
  },
  {
   "cell_type": "code",
   "execution_count": 10,
   "id": "19bada3b",
   "metadata": {},
   "outputs": [
    {
     "name": "stdout",
     "output_type": "stream",
     "text": [
      "15\n",
      "20\n"
     ]
    }
   ],
   "source": [
    "def add_numbers(a, b):\n",
    "    return a + b\n",
    "\n",
    "result = add_numbers(10, 5)  # The function returns the result (10 + 5 = 15)\n",
    "print(result)  # Output: 15\n",
    "\n",
    "# Using the return value of the function in an expression\n",
    "total = add_numbers(2, 4) + add_numbers(6, 8)\n",
    "print(total)  # Output: 20 (2 + 4 + 6 + 8 = 20)\n"
   ]
  },
  {
   "cell_type": "markdown",
   "id": "ca3d6105",
   "metadata": {},
   "source": [
    "In this example, the add_numbers function returns the sum of its two arguments. The returned value is then used directly in the expression to perform addition and obtain the final result."
   ]
  },
  {
   "cell_type": "markdown",
   "id": "73db5f34",
   "metadata": {},
   "source": [
    "8. If a function does not have a return statement, what is the return value of a call to that function?"
   ]
  },
  {
   "cell_type": "markdown",
   "id": "0dc9abeb",
   "metadata": {},
   "source": [
    "\n",
    "If a function does not have a return statement, the return value of a call to that function is a special value called None. In Python, None is a built-in constant that represents the absence of a value. It is used to signify that a function call did not explicitly return any value.\n",
    "\n",
    "When a function lacks a return statement or has a return statement without an expression, the function implicitly returns None at the end of its execution."
   ]
  },
  {
   "cell_type": "code",
   "execution_count": 7,
   "id": "cad105ac",
   "metadata": {},
   "outputs": [
    {
     "name": "stdout",
     "output_type": "stream",
     "text": [
      "Hello, Ambalika!\n",
      "None\n"
     ]
    }
   ],
   "source": [
    "def user(name):\n",
    "    print(f\"Hello, {name}!\")\n",
    "\n",
    "result = user(\"Ambalika\")\n",
    "print(result)  # Output: None\n",
    "\n",
    "\n",
    "\n",
    "\n"
   ]
  },
  {
   "cell_type": "markdown",
   "id": "425b94cd",
   "metadata": {},
   "source": [
    "In this example, the user function does not have a return statement. \n",
    "When we call the function with the argument \"Ambalika,\" it prints the greeting message but does not return any explicit value.\n",
    "Consequently, the return value of user(\"Ambalika\") is None, which is then printed in the next line.\n"
   ]
  },
  {
   "cell_type": "markdown",
   "id": "675ce9e2",
   "metadata": {},
   "source": [
    "9. How do you make a function variable refer to the global variable?"
   ]
  },
  {
   "cell_type": "markdown",
   "id": "46435fe7",
   "metadata": {},
   "source": [
    "In Python, if we want to access and modify a global variable from within a function, we need to use the global keyword."
   ]
  },
  {
   "cell_type": "code",
   "execution_count": 24,
   "id": "3267d54a",
   "metadata": {},
   "outputs": [
    {
     "name": "stdout",
     "output_type": "stream",
     "text": [
      "Before: 10\n",
      "After: 20\n"
     ]
    }
   ],
   "source": [
    "#Example:\n",
    "\n",
    "gol_var=10 # This is a global variable\n",
    "\n",
    "def updated_func():\n",
    "    global gol_var   # Declare that we are referring to the global variable\n",
    "    gol_var=20       # Modify the value of the global variable inside the function\n",
    "    print(f\"After:\",gol_var)\n",
    "    \n",
    "print(f\"Before:\",gol_var)\n",
    "\n",
    "updated_func()\n",
    "\n"
   ]
  },
  {
   "cell_type": "markdown",
   "id": "77245765",
   "metadata": {},
   "source": [
    "10. What is the data type of None?"
   ]
  },
  {
   "cell_type": "markdown",
   "id": "a19d1e05",
   "metadata": {},
   "source": [
    "In Python, the data type of None is a special data type called \"NoneType.\" It represents the absence of a value or the lack of any value. None is commonly used to indicate that a function does not return any explicit value or to initialize variables when no valid value is available.\n",
    "\n",
    "we can check the type of None using the type() function:"
   ]
  },
  {
   "cell_type": "code",
   "execution_count": 25,
   "id": "3402be86",
   "metadata": {},
   "outputs": [
    {
     "name": "stdout",
     "output_type": "stream",
     "text": [
      "<class 'NoneType'>\n"
     ]
    }
   ],
   "source": [
    "result = None\n",
    "print(type(result))\n"
   ]
  },
  {
   "cell_type": "markdown",
   "id": "22d1bdfd",
   "metadata": {},
   "source": [
    "As None is a specific data type, it cannot be directly compared with other types like integers or strings. For example, None == 0 or None == '' will both be False because None is not equal to any other value, except None itself. To check if a variable is None, use the identity comparison with the is keyword:\n",
    "\n",
    "\n"
   ]
  },
  {
   "cell_type": "code",
   "execution_count": 26,
   "id": "a06a76cc",
   "metadata": {},
   "outputs": [
    {
     "name": "stdout",
     "output_type": "stream",
     "text": [
      "The result is None.\n"
     ]
    }
   ],
   "source": [
    "result = None\n",
    "if result is None:      # Here we are using is keyword to check if variable is None or not\n",
    "    print(\"The result is None.\")\n",
    "else:\n",
    "    print(\"The result is not None.\")\n"
   ]
  },
  {
   "cell_type": "markdown",
   "id": "fdf94626",
   "metadata": {},
   "source": [
    "11. What does the sentence import areallyourpetsnamederic do?"
   ]
  },
  {
   "cell_type": "markdown",
   "id": "bf158e5e",
   "metadata": {},
   "source": [
    "\n",
    "The sentence \"import areallyourpetsnamederic\" is not a regular English sentence. In Python, this line of code would attempt to import a module named \"areallyourpetsnamederic.\"\n",
    "\n",
    "In Python, the import statement is used to bring functionality from external modules into the current script or program.Import a module can give access to its functions, classes, and variables, allowing us to use them in our code.\n",
    "\n",
    "However, for the line \"import areallyourpetsnamederic\" to work correctly, there must be a module named \"areallyourpetsnamederic.py\" accessible in the Python module search path. If the module is not found, Python will raise an ImportError.\n"
   ]
  },
  {
   "cell_type": "markdown",
   "id": "90f23c89",
   "metadata": {},
   "source": [
    "12. If you had a bacon() feature in a spam module, what would you call it after importing spam?"
   ]
  },
  {
   "cell_type": "markdown",
   "id": "663c9a79",
   "metadata": {},
   "source": [
    "After importing the spam module, we would call the bacon() function using the following syntax:"
   ]
  },
  {
   "cell_type": "code",
   "execution_count": null,
   "id": "9448ba30",
   "metadata": {},
   "outputs": [],
   "source": [
    "import spam\n",
    "\n",
    "spam.bacon()\n"
   ]
  },
  {
   "cell_type": "markdown",
   "id": "cc38d808",
   "metadata": {},
   "source": [
    "13. What can you do to save a programme from crashing if it encounters an error?"
   ]
  },
  {
   "cell_type": "markdown",
   "id": "23fe397a",
   "metadata": {},
   "source": [
    "Implement error handling techniques can save a program from crashing when it encounters an error.\n",
    "\n",
    "In Python, we can use the try, except, and optionally finally blocks for error handling. The try block contains the code that might raise an exception, and the except block specifies how to handle the exception if it occurs. The finally block (if used) contains code that will be executed regardless of whether an exception occurred or not."
   ]
  },
  {
   "cell_type": "code",
   "execution_count": 28,
   "id": "861d5519",
   "metadata": {},
   "outputs": [
    {
     "name": "stdout",
     "output_type": "stream",
     "text": [
      "Error: Division by zero occurred!\n",
      "End of error handling\n",
      "Result: 0\n"
     ]
    }
   ],
   "source": [
    "try:\n",
    "    # Code that might raise an exception\n",
    "    result = 10 / 0  # This will raise a ZeroDivisionError\n",
    "except ZeroDivisionError as e:\n",
    "    # Handling the specific exception\n",
    "    print(\"Error: Division by zero occurred!\")\n",
    "    result = 0  # Assign a default value to 'result'\n",
    "except Exception as e:\n",
    "    # Handling other exceptions\n",
    "    print(f\"An error occurred: {e}\")\n",
    "    result = 0  # Assign a default value to 'result'\n",
    "finally:\n",
    "    # Code that will always execute\n",
    "    print(\"End of error handling\")\n",
    "\n",
    "# The program continues executing after error handling\n",
    "print(\"Result:\", result)\n"
   ]
  },
  {
   "cell_type": "markdown",
   "id": "cc2a747b",
   "metadata": {},
   "source": [
    "In this example, if a ZeroDivisionError occurs during the division, the program will catch the exception, print an error message, and assign a default value to the result variable. The program will continue executing after the error handling block."
   ]
  },
  {
   "cell_type": "markdown",
   "id": "b9996150",
   "metadata": {},
   "source": [
    "14. What is the purpose of the try clause? What is the purpose of the except clause?"
   ]
  },
  {
   "cell_type": "markdown",
   "id": "a28194e8",
   "metadata": {},
   "source": [
    "The purpose of the try clause in Python is to enclose a block of code that might raise an exception during its execution. The try block allows us to anticipate potential errors and handle them gracefully without causing the program to crash."
   ]
  },
  {
   "cell_type": "markdown",
   "id": "9e26420b",
   "metadata": {},
   "source": [
    "The purpose of the except clause is to define the actions that should be taken if a specific exception occurs within the corresponding try block. When an exception is raised in the try block, the Python interpreter looks for the matching except block(s) to handle that specific type of exception.\n",
    "\n",
    "If the raised exception matches one of the specified exception types in the except block, the code inside that except block will be executed. This allows us to handle different types of exceptions differently based on the context of the error."
   ]
  },
  {
   "cell_type": "code",
   "execution_count": 29,
   "id": "0bb09ee8",
   "metadata": {},
   "outputs": [
    {
     "name": "stdout",
     "output_type": "stream",
     "text": [
      "Error: Division by zero occurred!\n",
      "End of error handling\n",
      "Result: 0\n"
     ]
    }
   ],
   "source": [
    "#Example:\n",
    "try:\n",
    "    result = 10 / 0  # This will raise a ZeroDivisionError\n",
    "except ZeroDivisionError as e:\n",
    "    print(\"Error: Division by zero occurred!\")\n",
    "    result = 0  # Assign a default value to 'result'\n",
    "except Exception as e:\n",
    "    print(f\"An error occurred: {e}\")\n",
    "    result = 0  # Assign a default value to 'result'\n",
    "finally:\n",
    "    print(\"End of error handling\")\n",
    "\n",
    "print(\"Result:\", result)\n"
   ]
  },
  {
   "cell_type": "markdown",
   "id": "7014568b",
   "metadata": {},
   "source": [
    "In this example, the try block attempts to perform a division by zero, which raises a ZeroDivisionError. The except block with ZeroDivisionError will handle this specific exception, printing an error message and assigning a default value to the result variable. If any other exception occurs (caught by the generic except Exception), it will print a more general error message. The finally block will always execute, regardless of whether an exception was raised or not."
   ]
  }
 ],
 "metadata": {
  "kernelspec": {
   "display_name": "Python 3 (ipykernel)",
   "language": "python",
   "name": "python3"
  },
  "language_info": {
   "codemirror_mode": {
    "name": "ipython",
    "version": 3
   },
   "file_extension": ".py",
   "mimetype": "text/x-python",
   "name": "python",
   "nbconvert_exporter": "python",
   "pygments_lexer": "ipython3",
   "version": "3.10.9"
  }
 },
 "nbformat": 4,
 "nbformat_minor": 5
}
