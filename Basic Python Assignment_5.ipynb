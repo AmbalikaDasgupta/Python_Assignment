{
 "cells": [
  {
   "cell_type": "markdown",
   "id": "180dd428",
   "metadata": {},
   "source": [
    "1. What does an empty dictionary's code look like?"
   ]
  },
  {
   "cell_type": "markdown",
   "id": "a3162b36",
   "metadata": {},
   "source": [
    "In Python, an empty dictionary is represented by curly braces {}. Here's what the code for an empty dictionary looks like:"
   ]
  },
  {
   "cell_type": "code",
   "execution_count": 3,
   "id": "65f28f2e",
   "metadata": {},
   "outputs": [
    {
     "data": {
      "text/plain": [
       "dict"
      ]
     },
     "execution_count": 3,
     "metadata": {},
     "output_type": "execute_result"
    }
   ],
   "source": [
    "empty_dict = {}\n",
    "type(empty_dict)"
   ]
  },
  {
   "cell_type": "markdown",
   "id": "39f9e11b",
   "metadata": {},
   "source": [
    "2. What is the value of a dictionary value with the key \"foo\" and the value 42?"
   ]
  },
  {
   "cell_type": "code",
   "execution_count": 5,
   "id": "b0589724",
   "metadata": {},
   "outputs": [
    {
     "data": {
      "text/plain": [
       "dict_values([42])"
      ]
     },
     "execution_count": 5,
     "metadata": {},
     "output_type": "execute_result"
    }
   ],
   "source": [
    "Dict1={\"foo\":42}\n",
    "Dict1.values()\n",
    "#In this dictionary, the key is 'foo', and its corresponding value is 42."
   ]
  },
  {
   "cell_type": "markdown",
   "id": "3cb2e44b",
   "metadata": {},
   "source": [
    "3. What is the most significant distinction between a dictionary and a list?"
   ]
  },
  {
   "cell_type": "markdown",
   "id": "f3425ad6",
   "metadata": {},
   "source": [
    "The most significant distinction between a dictionary and a list is:\n",
    "\n",
    "A list is an ordered collection of elements accessed by numerical indices.Lists are defined using square brackets [].\n",
    "\n",
    "A dictionary is an unordered collection of key-value pairs, where elements are accessed using unique keys. Dictionaries are defined using curly braces {}"
   ]
  },
  {
   "cell_type": "code",
   "execution_count": 9,
   "id": "778159a8",
   "metadata": {},
   "outputs": [
    {
     "data": {
      "text/plain": [
       "list"
      ]
     },
     "execution_count": 9,
     "metadata": {},
     "output_type": "execute_result"
    }
   ],
   "source": [
    "List=[1,2,\"amba\",20.32]\n",
    "type(List)\n"
   ]
  },
  {
   "cell_type": "code",
   "execution_count": 10,
   "id": "5158d004",
   "metadata": {},
   "outputs": [
    {
     "data": {
      "text/plain": [
       "dict"
      ]
     },
     "execution_count": 10,
     "metadata": {},
     "output_type": "execute_result"
    }
   ],
   "source": [
    "d1={\"key1\":20,\"key2\":23}\n",
    "type(d1)"
   ]
  },
  {
   "cell_type": "markdown",
   "id": "c6c67277",
   "metadata": {},
   "source": [
    "4. What happens if you try to access spam[\"foo\"] if spam is {\"bar\": 100}?"
   ]
  },
  {
   "cell_type": "markdown",
   "id": "00bcd493",
   "metadata": {},
   "source": [
    "It will show KeyError. This is because the key 'foo' does not exist in the spam dictionary. The dictionary spam only contains one key-value pair, where the key is 'bar' and the value is 100."
   ]
  },
  {
   "cell_type": "code",
   "execution_count": 11,
   "id": "b20357c3",
   "metadata": {},
   "outputs": [],
   "source": [
    "spam={\"bar\":100}"
   ]
  },
  {
   "cell_type": "code",
   "execution_count": 13,
   "id": "02123676",
   "metadata": {},
   "outputs": [
    {
     "data": {
      "text/plain": [
       "100"
      ]
     },
     "execution_count": 13,
     "metadata": {},
     "output_type": "execute_result"
    }
   ],
   "source": [
    "spam[\"bar\"]"
   ]
  },
  {
   "cell_type": "code",
   "execution_count": 15,
   "id": "f310a179",
   "metadata": {},
   "outputs": [
    {
     "ename": "KeyError",
     "evalue": "'foo'",
     "output_type": "error",
     "traceback": [
      "\u001b[1;31m---------------------------------------------------------------------------\u001b[0m",
      "\u001b[1;31mKeyError\u001b[0m                                  Traceback (most recent call last)",
      "Cell \u001b[1;32mIn[15], line 1\u001b[0m\n\u001b[1;32m----> 1\u001b[0m \u001b[43mspam\u001b[49m\u001b[43m[\u001b[49m\u001b[38;5;124;43m\"\u001b[39;49m\u001b[38;5;124;43mfoo\u001b[39;49m\u001b[38;5;124;43m\"\u001b[39;49m\u001b[43m]\u001b[49m\n",
      "\u001b[1;31mKeyError\u001b[0m: 'foo'"
     ]
    }
   ],
   "source": [
    "spam[\"foo\"]"
   ]
  },
  {
   "cell_type": "markdown",
   "id": "485b8302",
   "metadata": {},
   "source": [
    "5. If a dictionary is stored in spam, what is the difference between the expressions &#39;cat&#39; in spam and\n",
    "&#39;cat&#39; in spam.keys()?"
   ]
  },
  {
   "cell_type": "markdown",
   "id": "8872ab99",
   "metadata": {},
   "source": [
    "In Python, if a dictionary is stored in a variable called spam, the expression 'cat' in spam and 'cat' in spam.keys() have different meanings.\n",
    "\n",
    "1.'cat' in spam: This expression checks if the key 'cat' is present in the dictionary spam. It returns True if the key 'cat' exists in the dictionary and False otherwise.\n",
    "\n",
    "2.'cat' in spam.keys(): This expression checks if the key 'cat' is present in the list of keys of the dictionary spam. It returns True if the key 'cat' exists in the list of keys and False otherwise."
   ]
  },
  {
   "cell_type": "code",
   "execution_count": 9,
   "id": "6b891190",
   "metadata": {},
   "outputs": [
    {
     "name": "stdout",
     "output_type": "stream",
     "text": [
      "True\n",
      "True\n"
     ]
    }
   ],
   "source": [
    "spam = {'cat': 'meow', 'dog': 'bark', 'bird': 'tweet'}\n",
    "\n",
    "# Check if 'cat' is a key in the dictionary 'spam'\n",
    "print('cat' in spam) \n",
    "\n",
    "# Check if 'cat' is a key in the list of keys of the dictionary 'spam'\n",
    "print('cat' in spam.keys())"
   ]
  },
  {
   "cell_type": "markdown",
   "id": "df235792",
   "metadata": {},
   "source": [
    "6. If a dictionary is stored in spam, what is the difference between the expressions &#39;cat&#39; in spam and\n",
    "&#39;cat&#39; in spam.values()?"
   ]
  },
  {
   "cell_type": "markdown",
   "id": "f0444c1b",
   "metadata": {},
   "source": [
    "In Python, if a dictionary is stored in a variable called spam, the expressions 'cat' in spam and 'cat' in spam.values() have different meanings.\n",
    "\n",
    "1.1.'cat' in spam: This expression checks if the key 'cat' is present in the dictionary spam. It returns True if the key 'cat' exists in the dictionary and False otherwise.\n",
    "\n",
    "2.'cat' in spam.values(): This expression checks if the value 'cat' is present in the dictionary spam. It returns True if the value 'cat' exists in any of the dictionary's values and False otherwise.\n"
   ]
  },
  {
   "cell_type": "code",
   "execution_count": 12,
   "id": "a1b17cc1",
   "metadata": {},
   "outputs": [
    {
     "name": "stdout",
     "output_type": "stream",
     "text": [
      "True\n",
      "False\n"
     ]
    }
   ],
   "source": [
    "spam = {'cat': 'meow', 'dog': 'bark', 'bird': 'tweet'}\n",
    "\n",
    "# Check if 'cat' is a key in the dictionary 'spam'\n",
    "print('cat' in spam)\n",
    "\n",
    "# Check if 'meow' is a value in the dictionary 'spam'\n",
    "print('cat' in spam.values())"
   ]
  },
  {
   "cell_type": "markdown",
   "id": "fa603565",
   "metadata": {},
   "source": [
    "7. What is a shortcut for the following code?\n",
    "\n",
    "if &#39;color&#39; not in spam:\n",
    "\n",
    "spam[&#39;color&#39;] = &#39;black&#39;"
   ]
  },
  {
   "cell_type": "markdown",
   "id": "30e54f8c",
   "metadata": {},
   "source": [
    "The shortcut for the given code is to use the dict.setdefault() method. This method sets a default value for a key in the dictionary if the key does not exist. If the key is already present in the dictionary, it does nothing.\n",
    "\n",
    "Here's the shortcut using dict.setdefault():"
   ]
  },
  {
   "cell_type": "code",
   "execution_count": 14,
   "id": "96ce3137",
   "metadata": {},
   "outputs": [
    {
     "data": {
      "text/plain": [
       "'black'"
      ]
     },
     "execution_count": 14,
     "metadata": {},
     "output_type": "execute_result"
    }
   ],
   "source": [
    "spam.setdefault('color', 'black')"
   ]
  },
  {
   "cell_type": "code",
   "execution_count": 16,
   "id": "b4ed196d",
   "metadata": {},
   "outputs": [
    {
     "name": "stdout",
     "output_type": "stream",
     "text": [
      "{'cat': 'meow', 'dog': 'bark', 'bird': 'tweet', 'color': 'black'}\n"
     ]
    }
   ],
   "source": [
    "print(spam)"
   ]
  },
  {
   "cell_type": "markdown",
   "id": "44797e41",
   "metadata": {},
   "source": [
    "8. How do you &quot;pretty print&quot; dictionary values using which module and function?"
   ]
  },
  {
   "cell_type": "markdown",
   "id": "2c0f501b",
   "metadata": {},
   "source": [
    "To \"pretty print\" dictionary values in Python, we can use the pprint module and its pprint() function. The pprint module provides a way to print data structures, including dictionaries, in a more human-readable and well-formatted manner.\n"
   ]
  },
  {
   "cell_type": "code",
   "execution_count": 18,
   "id": "d5c095d2",
   "metadata": {},
   "outputs": [
    {
     "name": "stdout",
     "output_type": "stream",
     "text": [
      "{'age': 30, 'name': 'John Doe', 'occupation': 'Engineer'}\n"
     ]
    }
   ],
   "source": [
    "import pprint\n",
    "\n",
    "spam = {'name': 'John Doe', 'age': 30, 'occupation': 'Engineer'}\n",
    "\n",
    "# Pretty print the dictionary 'spam'\n",
    "pprint.pprint(spam)"
   ]
  },
  {
   "cell_type": "code",
   "execution_count": null,
   "id": "65b74ebb",
   "metadata": {},
   "outputs": [],
   "source": []
  },
  {
   "cell_type": "code",
   "execution_count": null,
   "id": "21349176",
   "metadata": {},
   "outputs": [],
   "source": []
  }
 ],
 "metadata": {
  "kernelspec": {
   "display_name": "Python 3 (ipykernel)",
   "language": "python",
   "name": "python3"
  },
  "language_info": {
   "codemirror_mode": {
    "name": "ipython",
    "version": 3
   },
   "file_extension": ".py",
   "mimetype": "text/x-python",
   "name": "python",
   "nbconvert_exporter": "python",
   "pygments_lexer": "ipython3",
   "version": "3.10.9"
  }
 },
 "nbformat": 4,
 "nbformat_minor": 5
}
